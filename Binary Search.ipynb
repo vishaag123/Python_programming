{
 "cells": [
  {
   "cell_type": "code",
   "execution_count": 7,
   "metadata": {},
   "outputs": [
    {
     "name": "stdout",
     "output_type": "stream",
     "text": [
      "7\n"
     ]
    }
   ],
   "source": [
    "def binary_search(arr,target):\n",
    "    l,h=0,len(arr)-1\n",
    "    while l<=h:\n",
    "        mid=(l+h)//2\n",
    "        if arr[mid]==target:\n",
    "            return mid\n",
    "        elif arr[mid]>target:\n",
    "            h=mid-1\n",
    "        else:\n",
    "            l=mid+1\n",
    "    return -1\n",
    "\n",
    "print(binary_search([2,3,4,5,6,7,8,9],9))"
   ]
  },
  {
   "cell_type": "code",
   "execution_count": 8,
   "metadata": {},
   "outputs": [
    {
     "name": "stdout",
     "output_type": "stream",
     "text": [
      "8\n"
     ]
    }
   ],
   "source": [
    "def binary_search_descending(arr,target):\n",
    "    l,h=0,len(arr)-1\n",
    "    while l<=h:\n",
    "        mid=l+(h-l)//2\n",
    "        if arr[mid]==target:\n",
    "            return mid\n",
    "        elif arr[mid]<target:\n",
    "            h=mid-1\n",
    "        else:\n",
    "            l=mid+1\n",
    "    return -1\n",
    "\n",
    "print(binary_search_descending([20,17,13,9,8,5,4,3,2],2))"
   ]
  },
  {
   "cell_type": "code",
   "execution_count": 18,
   "metadata": {},
   "outputs": [
    {
     "name": "stdout",
     "output_type": "stream",
     "text": [
      "5\n"
     ]
    }
   ],
   "source": [
    "def first_occurence(arr,target):\n",
    "    l,h=0,len(arr)-1\n",
    "    res=-1\n",
    "    while l<=h:\n",
    "        mid=l+(h-l)//2\n",
    "        if arr[mid]==target:\n",
    "            res=mid\n",
    "            h=mid-1\n",
    "        elif arr[mid]<target:\n",
    "            l=mid+1\n",
    "        else:\n",
    "            h=mid-1\n",
    "    return res\n",
    "\n",
    "print(first_occurence([2,8,8,8,9,10,10,10,10,10,10,12,24,28,30],10))"
   ]
  },
  {
   "cell_type": "code",
   "execution_count": 21,
   "metadata": {},
   "outputs": [
    {
     "name": "stdout",
     "output_type": "stream",
     "text": [
      "1\n"
     ]
    }
   ],
   "source": [
    "def last_occurence(arr,target):\n",
    "    l,h=0,len(arr)-1\n",
    "    res=-1\n",
    "    while l<=h:\n",
    "        mid=l+(h-l)//2\n",
    "        if arr[mid]==target:\n",
    "            res=mid\n",
    "            l=mid+1\n",
    "        elif arr[mid]<target:\n",
    "            l=mid+1\n",
    "        else:\n",
    "            h=mid-1\n",
    "    return res\n",
    "\n",
    "def no_of_occurence(arr,target):\n",
    "    return last_occurence(arr,target)-first_occurence(arr,target)+1\n",
    "\n",
    "print(no_of_occurence([2,8,10,10,10,10,10,12,16,18],8))"
   ]
  },
  {
   "cell_type": "code",
   "execution_count": 43,
   "metadata": {},
   "outputs": [
    {
     "name": "stdout",
     "output_type": "stream",
     "text": [
      "6\n"
     ]
    }
   ],
   "source": [
    "def minimum(arr):\n",
    "    l,h=0,len(arr)-1\n",
    "    while l<=h:\n",
    "        mid=l+(h-l)//2\n",
    "        nxt=(mid+1)%len(arr)\n",
    "        prev=(mid+len(arr)-1)%len(arr)\n",
    "        if arr[l]<arr[h]:\n",
    "            return l\n",
    "        if arr[prev]>=arr[mid] and arr[nxt]>=arr[mid]:\n",
    "            return mid\n",
    "        elif arr[l]<=arr[mid]:\n",
    "            l=mid+1\n",
    "        elif arr[mid]<=arr[h]:\n",
    "            h=mid-1\n",
    "            \n",
    "print(minimum([6,7,8,10,12,14,2,3,4,5]))\n",
    "\n",
    "# No of rotation=index of minimum number from last\n",
    "            \n",
    "            "
   ]
  },
  {
   "cell_type": "code",
   "execution_count": 57,
   "metadata": {},
   "outputs": [
    {
     "name": "stdout",
     "output_type": "stream",
     "text": [
      "5\n"
     ]
    }
   ],
   "source": [
    "def minimum2(arr):\n",
    "    l,h=0,len(arr)-1\n",
    "    while l<h:\n",
    "        mid=(l+h)//2\n",
    "        if arr[mid]>arr[h]:\n",
    "            l=mid+1\n",
    "        else:\n",
    "            h=mid\n",
    "    return l\n",
    "\n",
    "print(minimum2([7,8,10,12,14,2,2,3,3,5,6]))"
   ]
  },
  {
   "cell_type": "code",
   "execution_count": 58,
   "metadata": {},
   "outputs": [
    {
     "name": "stdout",
     "output_type": "stream",
     "text": [
      "3\n"
     ]
    }
   ],
   "source": [
    "def find_element_rotated_sorted(arr,target):\n",
    "    ind=minimum2(arr)\n",
    "    l1=binary_search(arr[:ind],target)\n",
    "    l2=binary_search(arr[ind:],target)\n",
    "    return max(l1,l2)\n",
    "\n",
    "print(find_element_rotated_sorted([10,12,15,18,20,2,4,6,8],18))"
   ]
  },
  {
   "cell_type": "code",
   "execution_count": 61,
   "metadata": {},
   "outputs": [
    {
     "name": "stdout",
     "output_type": "stream",
     "text": [
      "2\n"
     ]
    }
   ],
   "source": [
    "def binary_nearly_sorted_array(arr,target):\n",
    "    l,h=0,len(arr)-1\n",
    "    while l<=h:\n",
    "        mid=l+(h-l)//2\n",
    "        if arr[mid]==target:\n",
    "            return mid\n",
    "        elif mid-1>=0 and arr[mid-1]==target:\n",
    "            return mid-1\n",
    "        elif mid+1<len(arr) and arr[mid+1]==target:\n",
    "            return mid+1\n",
    "#         elif mid-1>=0:\n",
    "#             if arr[mid-1]==target:\n",
    "#                 return mid-1\n",
    "#         elif mid+1<len(arr):\n",
    "#             if arr[mid+1]==target:\n",
    "#                 return mid+1\n",
    "        elif target>arr[mid]:\n",
    "            l=mid+2\n",
    "        else:\n",
    "            h=mid-2\n",
    "    return -1\n",
    "\n",
    "print(binary_nearly_sorted_array([10,5,30,20,40],30))"
   ]
  },
  {
   "cell_type": "code",
   "execution_count": 64,
   "metadata": {},
   "outputs": [
    {
     "name": "stdout",
     "output_type": "stream",
     "text": [
      "3\n"
     ]
    }
   ],
   "source": [
    "def floor_sorted_array(arr,target):\n",
    "    l,h=0,len(arr)-1\n",
    "    while l<=h:\n",
    "        mid=l+(h-l)//2\n",
    "        if mid+1<len(arr) and arr[mid]//target==0 and arr[mid+1]//target==1:\n",
    "            return mid\n",
    "        elif mid+1<len(arr) and arr[mid]//target==0 and arr[mid+1]//target==0:\n",
    "            l=mid+1\n",
    "        else:\n",
    "            h=mid-1\n",
    "            \n",
    "print(floor_sorted_array([1,2,3,4,8,10,12,19],5))\n",
    "            "
   ]
  },
  {
   "cell_type": "code",
   "execution_count": 66,
   "metadata": {},
   "outputs": [
    {
     "name": "stdout",
     "output_type": "stream",
     "text": [
      "5\n"
     ]
    }
   ],
   "source": [
    "def cieling_sorted_array(arr,target):\n",
    "    l,h=0,len(arr)-1\n",
    "    while l<=h:\n",
    "        mid=l+(h-l)//2\n",
    "        if mid+1<len(arr) and arr[mid]//target==0 and arr[mid+1]//target==1:\n",
    "            return mid+1\n",
    "        elif mid+1<len(arr) and arr[mid]//target==0 and arr[mid+1]//target==0:\n",
    "            l=mid+1\n",
    "        else:\n",
    "            h=mid-1\n",
    "            \n",
    "print(cieling_sorted_array([1,2,3,4,8,10,12,19],10))"
   ]
  },
  {
   "cell_type": "code",
   "execution_count": 70,
   "metadata": {},
   "outputs": [
    {
     "name": "stdout",
     "output_type": "stream",
     "text": [
      "a\n"
     ]
    }
   ],
   "source": [
    "def next_alphabet(arr,target):\n",
    "    l,h=0,len(arr)-1\n",
    "    res=\"\"\n",
    "    while l<=h:\n",
    "        mid=l+(h-l)//2\n",
    "        if arr[mid]>target:\n",
    "            res=arr[mid]\n",
    "            h=mid-1\n",
    "        elif arr[mid]<=target:\n",
    "            l=mid+1\n",
    "            \n",
    "    return res\n",
    "\n",
    "print(next_alphabet([\"a\",\"d\",\"f\",\"g\",\"h\"],\"\"))\n",
    "        \n",
    "        "
   ]
  },
  {
   "cell_type": "code",
   "execution_count": 73,
   "metadata": {},
   "outputs": [
    {
     "name": "stdout",
     "output_type": "stream",
     "text": [
      "None\n"
     ]
    }
   ],
   "source": [
    "def minimum_difference(arr,target):\n",
    "    l,h=0,len(arr)-1\n",
    "    while l<=h:\n",
    "        mid=l+(h-l)//2\n",
    "        if mid+1<len(arr) and arr[mid]//target==0 and arr[mid+1]//target==1:\n",
    "            return min(abs(arr[mid]-target),abs(arr[mid+1]-target))\n",
    "        elif mid+1<len(arr) and arr[mid]//target==0 and arr[mid+1]//target==0:\n",
    "            l=mid+1\n",
    "        else:\n",
    "            h=mid-1\n",
    "            \n",
    "\n",
    "print(minimum_difference([-2,-1,0,4,6,10],-3))"
   ]
  },
  {
   "cell_type": "code",
   "execution_count": 82,
   "metadata": {},
   "outputs": [
    {
     "name": "stdout",
     "output_type": "stream",
     "text": [
      "2\n"
     ]
    }
   ],
   "source": [
    "def minimum_difference(arr,target):\n",
    "    l,h=0,len(arr)-1\n",
    "    ans=10000\n",
    "    while l<=h:\n",
    "        mid=l+(h-l)//2\n",
    "        if(arr[mid]==target):\n",
    "            ans=0;\n",
    "            break\n",
    "        else:\n",
    "            ans=min(abs(arr[mid]-target),ans)\n",
    "            if(arr[mid]>target):\n",
    "                h=mid-1                \n",
    "            else:\n",
    "                l=mid+1\n",
    "    return ans\n",
    "\n",
    "print(minimum_difference([4,6,10,15,18,20,23],12))"
   ]
  },
  {
   "cell_type": "code",
   "execution_count": 90,
   "metadata": {},
   "outputs": [
    {
     "name": "stdout",
     "output_type": "stream",
     "text": [
      "3\n"
     ]
    }
   ],
   "source": [
    "def maxm_bitonic_array(arr):\n",
    "    l,h=0,len(arr)-1\n",
    "    while l<=h:\n",
    "        mid=l+(h-l)//2\n",
    "        if mid==0 and arr[mid]>arr[1]:\n",
    "            return mid\n",
    "        if mid==len(arr)-1 and arr[mid]>arr[mid-1]:\n",
    "            return mid\n",
    "        if arr[mid]>arr[mid-1] and arr[mid]>arr[mid+1]:\n",
    "            return mid\n",
    "        elif arr[mid-1]<arr[mid]:\n",
    "            l=mid+1\n",
    "        else:\n",
    "            h=mid-1\n",
    "    \n",
    "print(maxm_bitonic_array([3,6,8,10]))"
   ]
  },
  {
   "cell_type": "code",
   "execution_count": 100,
   "metadata": {},
   "outputs": [
    {
     "name": "stdout",
     "output_type": "stream",
     "text": [
      "(1, 12, 5)\n"
     ]
    }
   ],
   "source": [
    "def search_bitonic_array(arr,target):\n",
    "    max_ind=maxm_bitonic_array(arr)\n",
    "    i1=binary_search(arr[:max_ind],target)\n",
    "    i2=binary_search_descending(arr[max_ind:],target)\n",
    "    return i1,max_ind+i2,max_ind\n",
    "    \n",
    "            \n",
    "            \n",
    "print(search_bitonic_array([2,5,8,10,14,16,15,13,12,9,8,6,5,2],5))\n",
    "        \n",
    "        \n",
    "    "
   ]
  },
  {
   "cell_type": "code",
   "execution_count": 115,
   "metadata": {},
   "outputs": [
    {
     "name": "stdout",
     "output_type": "stream",
     "text": [
      "(2, 3)\n"
     ]
    }
   ],
   "source": [
    "def search_sorted_matrix(arr,target):\n",
    "    i,j=0,len(arr[0])-1\n",
    "    while i<len(arr) and j>=0:\n",
    "        if arr[i][j]==target:\n",
    "            return (i,j)  \n",
    "        elif arr[i][j]>target:\n",
    "            j-=1\n",
    "        elif arr[i][j]<target:\n",
    "            i+=1\n",
    "            \n",
    "    return -1\n",
    "\n",
    "\n",
    "print(search_sorted_matrix([[2,3,4,5],[3,4,5,6],[6,7,9,11]],11))\n",
    "            \n",
    "            "
   ]
  },
  {
   "cell_type": "code",
   "execution_count": 126,
   "metadata": {},
   "outputs": [
    {
     "name": "stdout",
     "output_type": "stream",
     "text": [
      "70\n",
      "54\n",
      "46\n",
      "42\n",
      "40\n",
      "40\n"
     ]
    }
   ],
   "source": [
    "# Allocate minimum continous number of pages to student considering each student must have atleast one book\n",
    "\n",
    "def allocate_min_no_of_pages(books,student):\n",
    "    res=-1\n",
    "    start=max(books)\n",
    "    end=sum(books)\n",
    "    while start<=end:\n",
    "        mid=start+(end-start)//2\n",
    "        if isvalid(books,mid,student):\n",
    "            res=mid\n",
    "            print(res)\n",
    "            end=mid-1\n",
    "        else:\n",
    "            start=mid+1\n",
    "    return res\n",
    "\n",
    "def isvalid(books,mid,student):\n",
    "    no_of_student=1\n",
    "    su=0\n",
    "    for i in books:\n",
    "        su+=i\n",
    "        if su<=mid:\n",
    "            pass\n",
    "        else:\n",
    "            no_of_student+=1\n",
    "            su=i\n",
    "    if no_of_student<=student:\n",
    "        return True\n",
    "    else:\n",
    "        return False\n",
    "    \n",
    "    \n",
    "print(allocate_min_no_of_pages([10,20,30,40],4))\n",
    "        \n",
    "        "
   ]
  },
  {
   "cell_type": "code",
   "execution_count": null,
   "metadata": {},
   "outputs": [],
   "source": []
  }
 ],
 "metadata": {
  "kernelspec": {
   "display_name": "Python 3",
   "language": "python",
   "name": "python3"
  },
  "language_info": {
   "codemirror_mode": {
    "name": "ipython",
    "version": 3
   },
   "file_extension": ".py",
   "mimetype": "text/x-python",
   "name": "python",
   "nbconvert_exporter": "python",
   "pygments_lexer": "ipython3",
   "version": "3.8.5"
  }
 },
 "nbformat": 4,
 "nbformat_minor": 4
}
