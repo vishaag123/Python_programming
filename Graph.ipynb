{
 "cells": [
  {
   "cell_type": "code",
   "execution_count": 11,
   "metadata": {},
   "outputs": [
    {
     "name": "stdout",
     "output_type": "stream",
     "text": [
      "[[0, 0, 0, 0, 0], [0, 0, 1, 1, 0], [0, 1, 0, 0, 1], [0, 1, 0, 0, 1], [0, 0, 1, 1, 0]]\n"
     ]
    }
   ],
   "source": [
    "def adjancy_matrix(n,edge):\n",
    "    adjmat=[[0 for _ in range(n+1)] for _ in range(n+1)]\n",
    "    for u,v in edge:\n",
    "        adjmat[u][v]=1\n",
    "        adjmat[v][u]=1\n",
    "    return adjmat\n",
    "\n",
    "print(adjancy_matrix(4,[(1,2),(2,4),(3,4),(1,3)]))\n",
    "        "
   ]
  },
  {
   "cell_type": "code",
   "execution_count": 17,
   "metadata": {},
   "outputs": [
    {
     "name": "stdout",
     "output_type": "stream",
     "text": [
      "{1: [2, 3], 2: [1, 4], 4: [2, 3], 3: [4, 1]}\n"
     ]
    }
   ],
   "source": [
    "def adjancy_list(n,edge):\n",
    "    adjlist={}\n",
    "    for u,v in edge:\n",
    "        if u in adjlist:\n",
    "            adjlist[u].append(v)\n",
    "        else:\n",
    "            adjlist[u]=[v]\n",
    "        if v in adjlist:\n",
    "                adjlist[v].append(u)\n",
    "        else:\n",
    "            adjlist[v]=[u]\n",
    "\n",
    "    return adjlist\n",
    "\n",
    "print(adjancy_list(4,[(1,2),(2,4),(3,4),(1,3)]))"
   ]
  },
  {
   "cell_type": "code",
   "execution_count": 84,
   "metadata": {},
   "outputs": [
    {
     "name": "stdout",
     "output_type": "stream",
     "text": [
      "{1: [2], 2: [1, 3, 7], 3: [2, 5], 7: [2, 5], 5: [7, 3], 4: [6], 6: [4]}\n"
     ]
    }
   ],
   "source": [
    "g1=adjancy_list(7,[(1,2),(2,3),(2,7),(7,5),(3,5),(4,6)])\n",
    "print(g1)"
   ]
  },
  {
   "cell_type": "code",
   "execution_count": 85,
   "metadata": {},
   "outputs": [
    {
     "name": "stdout",
     "output_type": "stream",
     "text": [
      "[1, 2, 3, 7, 5, 4, 6]\n"
     ]
    }
   ],
   "source": [
    "def bfs(node,graph,vis):\n",
    "    q=[node]\n",
    "    vis[node]=1\n",
    "    res=[]\n",
    "    while len(q)!=0:\n",
    "        cur=q.pop(0)\n",
    "        res.append(cur)\n",
    "        for i in graph[cur]:\n",
    "            if i not in vis:\n",
    "                q.append(i)\n",
    "                vis[i]=1\n",
    "    return res\n",
    "\n",
    "\n",
    "def bfs_whole_graph(graph,n):\n",
    "    vis={}\n",
    "    ans=[]\n",
    "    for i in range(1,n+1):\n",
    "        if i not in vis:\n",
    "            ans+=bfs(i,graph,vis)\n",
    "            \n",
    "    return ans\n",
    "\n",
    "print(bfs_whole_graph(g1,7))\n",
    "    \n",
    "        \n",
    "## Whenever we add anything in queque at that time only we will add that in visted.   \n",
    "        "
   ]
  },
  {
   "cell_type": "code",
   "execution_count": 86,
   "metadata": {},
   "outputs": [
    {
     "name": "stdout",
     "output_type": "stream",
     "text": [
      "1 2\n",
      "2 1\n",
      "2 3\n",
      "3 2\n",
      "3 5\n",
      "5 7\n",
      "7 2\n",
      "7 5\n",
      "5 3\n",
      "2 7\n",
      "4 6\n",
      "6 4\n",
      "[1, 2, 3, 5, 7, 4, 6]\n"
     ]
    }
   ],
   "source": [
    "def dfs(node,graph,vis,res):\n",
    "    if node not in vis:\n",
    "        res.append(node)\n",
    "        vis[node]=1\n",
    "        for i in graph[node]:\n",
    "            print(node,i)\n",
    "            if i not in vis:\n",
    "                dfs(i,graph,vis,res)\n",
    "        \n",
    "\n",
    "def dfs_whole_graph(node,graph,vis):\n",
    "    ans=[]\n",
    "    for i in range(1,node+1):\n",
    "        if i not in vis:\n",
    "            res=[]\n",
    "            dfs(i,graph,vis,res)\n",
    "            ans+=res\n",
    "    return ans\n",
    "\n",
    "\n",
    "print(dfs_whole_graph(7,g1,{}))\n",
    "            \n",
    "            \n",
    "    "
   ]
  },
  {
   "cell_type": "code",
   "execution_count": 87,
   "metadata": {},
   "outputs": [
    {
     "name": "stdout",
     "output_type": "stream",
     "text": [
      "True\n"
     ]
    }
   ],
   "source": [
    "def bfs_cyclic(node,graph,vis):\n",
    "    q=[node]\n",
    "    res={}\n",
    "    while len(q)!=0:\n",
    "        cur=q.pop(0)\n",
    "        vis[cur]=1\n",
    "        if cur not in res:\n",
    "            res[cur]=1\n",
    "        else:\n",
    "            return True\n",
    "        for i in graph[cur]:\n",
    "            if i not in vis:\n",
    "                q.append(i)\n",
    "    return False\n",
    "\n",
    "\n",
    "def bfs_whole_graph_cyclic(graph,n):\n",
    "    vis={}\n",
    "    for i in range(1,n+1):\n",
    "        if i not in vis:\n",
    "            if bfs_cyclic(i,graph,vis):\n",
    "                return True\n",
    "            \n",
    "    return False\n",
    "\n",
    "print(bfs_whole_graph_cyclic(g1,7))"
   ]
  },
  {
   "cell_type": "code",
   "execution_count": 88,
   "metadata": {},
   "outputs": [
    {
     "name": "stdout",
     "output_type": "stream",
     "text": [
      "True\n"
     ]
    }
   ],
   "source": [
    "def dfs_cyclic(node,par,graph,vis,res):\n",
    "    if node not in vis:\n",
    "        res[node]=par\n",
    "        vis[node]=1\n",
    "        for i in graph[node]:\n",
    "            if i in vis and res[node]!=i:\n",
    "                return True\n",
    "            elif i not in vis:\n",
    "                dfs_cyclic(i,node,graph,vis,res)\n",
    "     \n",
    "    \n",
    "        return False\n",
    "\n",
    "def dfs_whole_graph_cyclic(node,graph,vis):\n",
    "    for i in range(1,node+1):\n",
    "        if i not in vis:\n",
    "            if dfs_cyclic(i,-1,graph,{},{}):\n",
    "                return True\n",
    "    return False\n",
    "\n",
    "\n",
    "print(dfs_whole_graph_cyclic(7,g1,{}))"
   ]
  },
  {
   "cell_type": "code",
   "execution_count": 95,
   "metadata": {},
   "outputs": [
    {
     "name": "stdout",
     "output_type": "stream",
     "text": [
      "False\n"
     ]
    }
   ],
   "source": [
    "def bipartite_bfs(node,graph):\n",
    "    q=[node]\n",
    "    colour={node:0}\n",
    "    while q:\n",
    "        cur=q.pop(0)\n",
    "        for i in graph[cur]:\n",
    "            if i in colour and colour[i]==colour[cur]:\n",
    "                return False\n",
    "            if i not in colour:\n",
    "                q.append(i)\n",
    "                if colour[cur]==0:\n",
    "                    colour[i]=1\n",
    "                else:\n",
    "                    colour[i]=0\n",
    "    return True\n",
    "\n",
    "print(bipartite_bfs(3,adjancy_list(6,[(3,4),(4,5),(5,6),(6,8),(8,7),(7,4)])))\n",
    "        \n",
    "    "
   ]
  },
  {
   "cell_type": "code",
   "execution_count": 124,
   "metadata": {},
   "outputs": [
    {
     "name": "stdout",
     "output_type": "stream",
     "text": [
      "{3: [4], 4: [3, 5, 7], 5: [4, 6, 9, 10], 6: [5, 7], 9: [5, 11], 11: [9], 10: [5], 7: [6, 4]}\n",
      "True\n",
      "[3, 4, 5, 6, 7, 9, 11, 10]\n"
     ]
    }
   ],
   "source": [
    "def bipartite_dfs(node,graph,colour,res,flag):\n",
    "    if node not in colour:\n",
    "        res.append(node)\n",
    "        if flag:\n",
    "            colour[node]=0\n",
    "        else:\n",
    "            colour[node]=1\n",
    "        for i in graph[node]:\n",
    "            if i in colour and colour[i]==colour[node]:\n",
    "                print(i,\"|||||||||||\")\n",
    "                return False\n",
    "            if i not in colour:\n",
    "                if bipartite_dfs(i,graph,colour,res,not flag)==False:\n",
    "                    return False\n",
    "                \n",
    "        return True\n",
    "## In for loop, if we return at that moment only it went out of the loop. In some cases we can use recursion function in if condition\n",
    "    ## if there is certain things where are checking for single time.\n",
    "r=[]\n",
    "g2=adjancy_list(9,[(3,4),(4,5),(5,6),(5,9),(9,11),(5,10),(6,7),(7,4)])\n",
    "print(g2)\n",
    "print(bipartite_dfs(3,g2,{},r,True))\n",
    "print(r)\n",
    "        \n",
    "    \n",
    "    "
   ]
  },
  {
   "cell_type": "code",
   "execution_count": 148,
   "metadata": {},
   "outputs": [
    {
     "name": "stdout",
     "output_type": "stream",
     "text": [
      "{1: 1}\n",
      "2 ###############################################################################\n",
      "{1: 1, 2: 1}\n",
      "3 ###############################################################################\n",
      "{1: 1, 2: 1, 3: 1}\n",
      "4 ###############################################################################\n",
      "{1: 1, 2: 1, 3: 1, 4: 1}\n",
      "5 ###############################################################################\n",
      "{1: 1, 2: 1, 3: 1, 4: 1, 5: 1}\n",
      "{1: 1, 2: 1, 3: 1, 4: 1} ''''''''''''''''''''''''''''''''''''''''''''''''''''''\n",
      "|||\n",
      "{1: 1, 2: 1, 3: 1, 4: 1} ]]]]]]]]]]]]]]]]\n",
      "{1: 1, 2: 1, 3: 1} ''''''''''''''''''''''''''''''''''''''''''''''''''''''\n",
      "6 ###############################################################################\n",
      "{1: 1, 2: 1, 3: 1, 6: 1}\n",
      "|||\n",
      "{1: 1, 2: 1, 3: 1, 6: 1} ]]]]]]]]]]]]]]]]\n",
      "{1: 1, 2: 1, 3: 1} ''''''''''''''''''''''''''''''''''''''''''''''''''''''\n",
      "|||\n",
      "{1: 1, 2: 1, 3: 1} ]]]]]]]]]]]]]]]]\n",
      "{1: 1, 2: 1} ''''''''''''''''''''''''''''''''''''''''''''''''''''''\n",
      "|||\n",
      "{1: 1, 2: 1} ]]]]]]]]]]]]]]]]\n",
      "{1: 1} ''''''''''''''''''''''''''''''''''''''''''''''''''''''\n",
      "|||\n",
      "{1: 1} ]]]]]]]]]]]]]]]]\n",
      "{1: 1, 7: 1}\n",
      "8 ###############################################################################\n",
      "{1: 1, 7: 1, 8: 1}\n",
      "9 ###############################################################################\n",
      "{1: 1, 7: 1, 8: 1, 9: 1}\n",
      "True\n"
     ]
    }
   ],
   "source": [
    "def detect_cycle_directed_graph(node,graph,vis,dfs_vis):\n",
    "    for i in range(1,node+1):\n",
    "        if i not in vis:\n",
    "            if cyclecheck(i,graph,vis,dfs_vis):\n",
    "                return True\n",
    "    return False\n",
    "            \n",
    "            \n",
    "def cyclecheck(node,graph,vis,dfs_vis):\n",
    "    if node not in vis:\n",
    "        vis[node]=1\n",
    "        dfs_vis[node]=1\n",
    "        print(dfs_vis)\n",
    "        if node in graph:\n",
    "            for i in graph[node]:\n",
    "                if i in vis and i in dfs_vis:\n",
    "                    return True\n",
    "                elif i not in vis:\n",
    "                    print(i,\"###############################################################################\")\n",
    "                    if cyclecheck(i,graph,vis,dfs_vis)==False:\n",
    "                        dfs_vis.popitem()\n",
    "                        print(dfs_vis,\"''''''''''''''''''''''''''''''''''''''''''''''''''''''\")\n",
    "            \n",
    "                    else:\n",
    "                        return True\n",
    "    \n",
    "            else:   ##VVI while moving up, it is checking again elif i not in visit but its there while coming down, so it will go to else condition\n",
    "                print(\"|||\")\n",
    "                print(dfs_vis,\"]]]]]]]]]]]]]]]]\")\n",
    "                return False\n",
    "        else:\n",
    "            return False\n",
    "    \n",
    "    \n",
    "def directed_adjancy_list(node,edge):\n",
    "    adjlist={}\n",
    "    for u,v in edge:\n",
    "        if u in adjlist:\n",
    "            adjlist[u].append(v)\n",
    "        else:\n",
    "            adjlist[u]=[v]\n",
    "    return adjlist\n",
    "\n",
    "dgraph1=directed_adjancy_list(9,[(1,2),(2,3),(3,4),(3,6),(4,5),(6,5),(7,2),(7,8),(8,9),(9,7)])\n",
    "    \n",
    "    \n",
    "print(detect_cycle_directed_graph(9,dgraph1,{},{}))  \n",
    "\n",
    "## FOR BACKTRACKING CALL THE FUNCTION AND STORE ITS VALUE AFTER THAT DO POP OR REMOVING OF ELEMET FOR BACKTRACKING THEN RETURN\n",
    "        "
   ]
  },
  {
   "cell_type": "code",
   "execution_count": null,
   "metadata": {},
   "outputs": [],
   "source": []
  },
  {
   "cell_type": "code",
   "execution_count": null,
   "metadata": {},
   "outputs": [],
   "source": []
  }
 ],
 "metadata": {
  "kernelspec": {
   "display_name": "Python 3",
   "language": "python",
   "name": "python3"
  },
  "language_info": {
   "codemirror_mode": {
    "name": "ipython",
    "version": 3
   },
   "file_extension": ".py",
   "mimetype": "text/x-python",
   "name": "python",
   "nbconvert_exporter": "python",
   "pygments_lexer": "ipython3",
   "version": "3.8.5"
  }
 },
 "nbformat": 4,
 "nbformat_minor": 4
}
