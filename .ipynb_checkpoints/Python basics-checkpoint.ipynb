{
 "cells": [
  {
   "cell_type": "code",
   "execution_count": 13,
   "metadata": {},
   "outputs": [
    {
     "name": "stdout",
     "output_type": "stream",
     "text": [
      "[73, 67, 38, 33]\n",
      "[73, 67, 38, 33]\n",
      "[73, 67, 38, 33]\n",
      "[73, 67, 38, 33]\n"
     ]
    },
    {
     "data": {
      "text/plain": [
       "[75, 67, 40, 33]"
      ]
     },
     "execution_count": 13,
     "metadata": {},
     "output_type": "execute_result"
    }
   ],
   "source": [
    "def gradingStudents(grades):\n",
    "    # Write your code here\n",
    "    a=[]\n",
    "    for i in grades:\n",
    "        if i<=37:\n",
    "            a.append(i)\n",
    "\n",
    "        elif i%5==0:\n",
    "            a.append(i)\n",
    "     \n",
    "        elif (5*((i//5)+1))-i<3:\n",
    "            i=(5*((i//5)+1))\n",
    "            a.append(i)\n",
    "       \n",
    "        else:\n",
    "            a.append(i) \n",
    "          \n",
    "    return a\n",
    "\n",
    "gradingStudents([73,67,38,33])"
   ]
  },
  {
   "cell_type": "code",
   "execution_count": 18,
   "metadata": {},
   "outputs": [
    {
     "name": "stdout",
     "output_type": "stream",
     "text": [
      "[3, 5, 34, 1]\n",
      "[1, 2, 4, 5, 9, 34]\n"
     ]
    }
   ],
   "source": [
    "a=[2,4,5,9,34,1]\n",
    "out=[3,5]\n",
    "out+=a[4:]\n",
    "print(out)\n",
    "print(sorted(a))"
   ]
  },
  {
   "cell_type": "code",
   "execution_count": 19,
   "metadata": {},
   "outputs": [
    {
     "name": "stdout",
     "output_type": "stream",
     "text": [
      "1\n",
      "2\n",
      "3\n",
      "4\n",
      "5\n",
      "6\n",
      "7\n",
      "8\n",
      "9\n"
     ]
    }
   ],
   "source": [
    "for i in range(1,10):\n",
    "    print(i)"
   ]
  },
  {
   "cell_type": "code",
   "execution_count": null,
   "metadata": {},
   "outputs": [],
   "source": []
  }
 ],
 "metadata": {
  "kernelspec": {
   "display_name": "Python 3",
   "language": "python",
   "name": "python3"
  },
  "language_info": {
   "codemirror_mode": {
    "name": "ipython",
    "version": 3
   },
   "file_extension": ".py",
   "mimetype": "text/x-python",
   "name": "python",
   "nbconvert_exporter": "python",
   "pygments_lexer": "ipython3",
   "version": "3.8.5"
  }
 },
 "nbformat": 4,
 "nbformat_minor": 4
}
