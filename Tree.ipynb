{
 "cells": [
  {
   "cell_type": "code",
   "execution_count": 1,
   "metadata": {},
   "outputs": [
    {
     "name": "stdout",
     "output_type": "stream",
     "text": [
      "drink\n",
      " hot\n",
      "  tea\n",
      "  coffee\n",
      " cold\n",
      "  cola\n",
      "  fanta\n",
      "\n"
     ]
    }
   ],
   "source": [
    "class TreeNode():\n",
    "    def __init__(self,data,children=[]):\n",
    "        self.data=data\n",
    "        self.children=children\n",
    "        \n",
    "    def addchild(self,TreeNode):\n",
    "        self.children.append(TreeNode)\n",
    "        \n",
    "    def __str__(self,level=0):            ##__str__ function return some value which can be used with usual print\n",
    "        ret=\" \"*level+str(self.data)+\"\\n\"\n",
    "        for child in self.children:\n",
    "            ret+=child.__str__(level+1)\n",
    "        return ret\n",
    "    \n",
    "    \n",
    "drink=TreeNode(\"drink\",[])\n",
    "hot=TreeNode(\"hot\",[])\n",
    "cold=TreeNode(\"cold\",[])\n",
    "tea=TreeNode(\"tea\",[])\n",
    "coffee=TreeNode(\"coffee\",[])\n",
    "cola=TreeNode(\"cola\",[])\n",
    "fanta=TreeNode(\"fanta\",[])\n",
    "drink.addchild(hot)\n",
    "drink.addchild(cold)\n",
    "hot.addchild(tea)\n",
    "hot.addchild(coffee)\n",
    "cold.addchild(cola)\n",
    "cold.addchild(fanta)\n",
    "print(drink)\n",
    "            "
   ]
  },
  {
   "cell_type": "code",
   "execution_count": 2,
   "metadata": {},
   "outputs": [],
   "source": [
    "class TreeNode():\n",
    "    def __init__(self,data):\n",
    "        self.left=None\n",
    "        self.data=data\n",
    "        self.right=None\n",
    "    \n",
    "\n",
    "\n",
    "newBT=TreeNode(\"Drinks\")\n",
    "hot=TreeNode(\"Hot\")\n",
    "cold=TreeNode(\"cold\")\n",
    "tea=TreeNode(\"Tea\")\n",
    "coffee=TreeNode(\"coffee\")\n",
    "cola=TreeNode(\"cola\")\n",
    "red=TreeNode(\"red\")\n",
    "black=TreeNode(\"black\")\n",
    "newBT.left=hot\n",
    "newBT.right=cold\n",
    "hot.left=tea\n",
    "hot.right=coffee\n",
    "cold.left=cola\n",
    "cola.left=red\n",
    "cola.right=black\n",
    "\n",
    "        \n",
    "    \n",
    "    "
   ]
  },
  {
   "cell_type": "code",
   "execution_count": 3,
   "metadata": {},
   "outputs": [
    {
     "name": "stdout",
     "output_type": "stream",
     "text": [
      "Drinks\n",
      "Hot\n",
      "Tea\n",
      "coffee\n",
      "cold\n",
      "cola\n",
      "red\n",
      "black\n"
     ]
    }
   ],
   "source": [
    "def preorder(tree): ## Root>>left>>right\n",
    "    if tree is None:\n",
    "        return\n",
    "    print(tree.data)\n",
    "    preorder(tree.left)\n",
    "    preorder(tree.right)\n",
    "    return\n",
    "\n",
    "        \n",
    "preorder(newBT)\n",
    "    "
   ]
  },
  {
   "cell_type": "code",
   "execution_count": 4,
   "metadata": {},
   "outputs": [
    {
     "name": "stdout",
     "output_type": "stream",
     "text": [
      "Tea\n",
      "Hot\n",
      "coffee\n",
      "Drinks\n",
      "red\n",
      "cola\n",
      "black\n",
      "cold\n"
     ]
    }
   ],
   "source": [
    "def inorder(tree): ##left>>root>>right\n",
    "    if tree is None:\n",
    "        return\n",
    "    inorder(tree.left)\n",
    "    print(tree.data)\n",
    "    inorder(tree.right)\n",
    "    return\n",
    "\n",
    "        \n",
    "inorder(newBT)"
   ]
  },
  {
   "cell_type": "code",
   "execution_count": 5,
   "metadata": {},
   "outputs": [
    {
     "name": "stdout",
     "output_type": "stream",
     "text": [
      "Tea\n",
      "coffee\n",
      "Hot\n",
      "red\n",
      "black\n",
      "cola\n",
      "cold\n",
      "Drinks\n"
     ]
    }
   ],
   "source": [
    "def postorder(tree): ##left>>right>>root\n",
    "    if tree is None:\n",
    "        return\n",
    "    postorder(tree.left)\n",
    "    postorder(tree.right)\n",
    "    print(tree.data)\n",
    "    return\n",
    "\n",
    "        \n",
    "postorder(newBT)"
   ]
  },
  {
   "cell_type": "code",
   "execution_count": 8,
   "metadata": {},
   "outputs": [
    {
     "name": "stdout",
     "output_type": "stream",
     "text": [
      "['Drinks', 'Hot', 'cold', 'Tea', 'coffee', 'cola', 'red', 'black']\n",
      "['Drinks', 'Hot', 'cold', 'Tea', 'coffee', 'cola', 'red', 'black']\n"
     ]
    }
   ],
   "source": [
    "def levelorder(tree):\n",
    "    if tree is None:\n",
    "        return\n",
    "    else:\n",
    "        ans=[]\n",
    "        q=[]\n",
    "        q.append(tree)\n",
    "        while q:\n",
    "            tmp=q.pop(0)\n",
    "            ans.append(tmp.data)\n",
    "            if tmp.left:\n",
    "                q.append(tmp.left)\n",
    "            if tmp.right:\n",
    "                q.append(tmp.right)\n",
    "    return ans\n",
    "\n",
    "print(levelorder(newBT))\n",
    "\n",
    "def levelorder_(tree):\n",
    "    ans=[]\n",
    "    q=[]\n",
    "    q.append(tree)\n",
    "    while q:\n",
    "        temp=q.pop(0)\n",
    "        ans.append(temp.data)\n",
    "        if temp.left:\n",
    "            q.append(temp.left)\n",
    "        if temp.right:\n",
    "            q.append(temp.right)\n",
    "    return ans\n",
    "\n",
    "\n",
    "print(levelorder_(newBT))          \n",
    "            "
   ]
  },
  {
   "cell_type": "code",
   "execution_count": 8,
   "metadata": {},
   "outputs": [
    {
     "name": "stdout",
     "output_type": "stream",
     "text": [
      "[['Drinks'], ['Hot', 'cold'], ['Tea', 'coffee', 'cola'], ['red', 'black']]\n"
     ]
    }
   ],
   "source": [
    "def levelorder2(tree):\n",
    "    ans=[]\n",
    "    q=[]\n",
    "    q.append(tree)\n",
    "    while q:\n",
    "        a=[]\n",
    "        l=len(q)\n",
    "        for i in range(l):\n",
    "            tmp=q.pop(0)\n",
    "            a.append(tmp.data)\n",
    "            if tmp.left:\n",
    "                q.append(tmp.left)\n",
    "            if tmp.right:\n",
    "                q.append(tmp.right)\n",
    "        ans.append(a)\n",
    "    return ans\n",
    "\n",
    "print(levelorder2(newBT))"
   ]
  },
  {
   "cell_type": "code",
   "execution_count": 9,
   "metadata": {},
   "outputs": [
    {
     "name": "stdout",
     "output_type": "stream",
     "text": [
      "['Drinks', 'Hot', 'Tea', 'coffee', 'cold', 'cola', 'red', 'black']\n"
     ]
    }
   ],
   "source": [
    "def preorder_stack(root):\n",
    "    s=[]\n",
    "    ans=[]\n",
    "    s.append(root)\n",
    "    while len(s)>0:\n",
    "        tmp=s.pop()\n",
    "        ans.append(tmp.data)\n",
    "        if tmp.right:\n",
    "            s.append(tmp.right)\n",
    "        if tmp.left:\n",
    "            s.append(tmp.left)\n",
    "    return ans\n",
    "\n",
    "print(preorder_stack(newBT))"
   ]
  },
  {
   "cell_type": "code",
   "execution_count": 10,
   "metadata": {},
   "outputs": [
    {
     "name": "stdout",
     "output_type": "stream",
     "text": [
      "4\n"
     ]
    }
   ],
   "source": [
    "def max_height(root):\n",
    "    if root is None:\n",
    "        return 0\n",
    "    l=max_height(root.left)\n",
    "    r=max_height(root.right)\n",
    "    return 1+max(l,r)\n",
    "\n",
    "print(max_height(newBT))"
   ]
  },
  {
   "cell_type": "markdown",
   "metadata": {},
   "source": [
    "## For balaced tree height(left)-height(right)<=1"
   ]
  },
  {
   "cell_type": "code",
   "execution_count": 11,
   "metadata": {},
   "outputs": [
    {
     "name": "stdout",
     "output_type": "stream",
     "text": [
      "True\n"
     ]
    }
   ],
   "source": [
    "def is_balanced_tree(root):\n",
    "    if root is None:\n",
    "        return True\n",
    "    l=max_height(root.left)\n",
    "    r=max_height(root.right)\n",
    "    if (l-r)>1:\n",
    "        return False\n",
    "    return True\n",
    "\n",
    "print(is_balanced_tree(newBT))\n",
    "\n",
    "\n",
    "    \n",
    "    "
   ]
  },
  {
   "cell_type": "code",
   "execution_count": 17,
   "metadata": {},
   "outputs": [
    {
     "name": "stdout",
     "output_type": "stream",
     "text": [
      "5\n",
      "6\n"
     ]
    }
   ],
   "source": [
    "def diameter_tree(root,size):\n",
    "    if root is None:\n",
    "        return\n",
    "    size.append(left_right_distance(root))\n",
    "    diameter_tree(root.left,size)\n",
    "    diameter_tree(root.right,size)\n",
    "    return size,max(size)\n",
    "    \n",
    "    \n",
    "def left_right_distance(root):\n",
    "    if root is None:\n",
    "        return 0\n",
    "    l,r=0,0\n",
    "    if root.left:\n",
    "        l=max_height(root.left)\n",
    "    if root.right:\n",
    "        r=max_height(root.right)\n",
    "    return l+r\n",
    "\n",
    "ma=0\n",
    "def diameter_tree2(root):\n",
    "    global ma\n",
    "    if root is None:\n",
    "        return 0\n",
    "    l=diameter_tree2(root.left)\n",
    "    r=diameter_tree2(root.right)\n",
    "    ma=max(ma,l+r)\n",
    "    return 1+max(l,r)\n",
    "\n",
    "\n",
    "    \n",
    "\n",
    "ntree=TreeNode(1)\n",
    "ntree2=TreeNode(2)\n",
    "ntree3=TreeNode(3)\n",
    "ntree4=TreeNode(4)\n",
    "ntree5=TreeNode(5)\n",
    "ntree6=TreeNode(6)\n",
    "ntree7=TreeNode(7)\n",
    "ntree8=TreeNode(8)\n",
    "ntree9=TreeNode(9)\n",
    "ntree.left=ntree2\n",
    "ntree.right=ntree3\n",
    "ntree3.left=ntree4\n",
    "ntree4.left=ntree5\n",
    "ntree5.left=ntree6\n",
    "ntree3.right=ntree7\n",
    "ntree7.right=ntree8\n",
    "ntree8.right=ntree9\n",
    "\n",
    "\n",
    "print(diameter_tree2(ntree))\n",
    "print(ma)"
   ]
  },
  {
   "cell_type": "code",
   "execution_count": 24,
   "metadata": {},
   "outputs": [
    {
     "name": "stdout",
     "output_type": "stream",
     "text": [
      "9\n",
      "15\n",
      "15\n",
      "42\n",
      "42\n",
      "42 /////////////\n"
     ]
    }
   ],
   "source": [
    "ma=0\n",
    "def max_path_sum(root):\n",
    "    global ma\n",
    "    if root is None:\n",
    "        return 0\n",
    "    l=max_path_sum(root.left)\n",
    "    r=max_path_sum(root.right)\n",
    "    ma=max(ma,root.data,root.data+l,root.data+r,root.data+l+r)\n",
    "    print(ma)\n",
    "    if ma==root.data+l+r:\n",
    "        return max(root.data,root.data+l,root.data+r)   \n",
    "    return max(root.data,root.data+l,root.data+r)\n",
    "\n",
    "\n",
    "# max_path_sum(btree)\n",
    "# print(ma)\n",
    "btree=TreeNode(-10)\n",
    "btree_=TreeNode(9)\n",
    "btree__=TreeNode(20)\n",
    "btree___=TreeNode(15)\n",
    "btree____=TreeNode(7)\n",
    "btree.left=btree_\n",
    "btree.right=btree__\n",
    "btree__.left=btree___\n",
    "btree__.right=btree____\n",
    "\n",
    "max_path_sum(btree)\n",
    "print(ma,\"/////////////\")"
   ]
  },
  {
   "cell_type": "code",
   "execution_count": 19,
   "metadata": {},
   "outputs": [
    {
     "name": "stdout",
     "output_type": "stream",
     "text": [
      "9\n",
      "15\n",
      "15\n",
      "42\n",
      "42\n",
      "42 /////////////\n"
     ]
    }
   ],
   "source": [
    "\")"
   ]
  },
  {
   "cell_type": "code",
   "execution_count": 14,
   "metadata": {},
   "outputs": [
    {
     "name": "stdout",
     "output_type": "stream",
     "text": [
      "[['Drinks'], ['cold', 'Hot'], ['Tea', 'coffee', 'cola'], ['black', 'red']]\n"
     ]
    }
   ],
   "source": [
    "def zig_zag_traversal(root):\n",
    "    ans=[]\n",
    "    q=[root]\n",
    "    flag=True\n",
    "    while q:\n",
    "        a=[]\n",
    "        for i in range(len(q)):\n",
    "            tmp=q.pop(0)\n",
    "            a.append(tmp.data)\n",
    "            if tmp.left:\n",
    "                q.append(tmp.left)\n",
    "            if tmp.right:\n",
    "                q.append(tmp.right)\n",
    "        if flag==True:\n",
    "            ans.append(a)\n",
    "        else:\n",
    "            ans.append(a[-1::-1])\n",
    "        flag=not flag\n",
    "        \n",
    "    return ans\n",
    "\n",
    "print(zig_zag_traversal(newBT))\n",
    "        \n",
    "        "
   ]
  },
  {
   "cell_type": "code",
   "execution_count": 26,
   "metadata": {},
   "outputs": [
    {
     "name": "stdout",
     "output_type": "stream",
     "text": [
      "[1]\n",
      "[2, 6, 9]\n",
      "[1, 2, 6, 9, 8, 7, 3]\n"
     ]
    }
   ],
   "source": [
    "def boundary_traversal(root):\n",
    "    def left_boundary(root,res):\n",
    "        if root is None:\n",
    "            return\n",
    "        if root.left is None and root.right is None:\n",
    "            return\n",
    "        res.append(root.data)\n",
    "        if root.left:\n",
    "            left_boundary(root.left,res)\n",
    "        else:\n",
    "            left_boundary(root.right,res)\n",
    "        return res\n",
    "    \n",
    "    \n",
    "    def leaf_doneby_preorder(root,res):\n",
    "        if root is None:\n",
    "            return\n",
    "        if root.left is None and root.right is None:\n",
    "            res.append(root.data)\n",
    "        leaf_doneby_preorder(root.left,res)\n",
    "        leaf_doneby_preorder(root.right,res)\n",
    "        return res\n",
    "    \n",
    "    \n",
    "    def right_boundary(root,res):\n",
    "        if root is None:\n",
    "            return\n",
    "        if root.left is None and root.right is None:\n",
    "            return\n",
    "        res.append(root.data)\n",
    "        if root.right:\n",
    "            right_boundary(root.right,res)\n",
    "        else:\n",
    "            right_boundary(root.left,res)\n",
    "        return res\n",
    "        \n",
    "    r=right_boundary(root.right,[])\n",
    "    print(left_boundary(ntree,[]))\n",
    "    print(leaf_doneby_preorder(ntree,[]))\n",
    "    return left_boundary(root,[])+leaf_doneby_preorder(root,[])+r[-1::-1]\n",
    "\n",
    "\n",
    "\n",
    "print(boundary_traversal(ntree))\n",
    "            \n",
    "        \n",
    "        "
   ]
  },
  {
   "cell_type": "code",
   "execution_count": 28,
   "metadata": {},
   "outputs": [
    {
     "name": "stdout",
     "output_type": "stream",
     "text": [
      "None\n"
     ]
    }
   ],
   "source": [
    "def vertical_traversal(root):\n",
    "    ans=[]\n",
    "    if root is None:\n",
    "        return\n",
    "    q=[]\n",
    "    q.append((root,0,1))\n",
    "    while q:\n",
    "        tmp=q.pop(0)\n",
    "        ans.append((tmp[0].data,tmp[1],tmp[2]))\n",
    "        if tmp[0].left:\n",
    "            q.append((tmp[0].left,tmp[1]-1,tmp[2]+1))\n",
    "        if tmp[0].right:\n",
    "            q.append((tmp[0].right,tmp[1]+1,tmp[2]+1))\n",
    "            \n",
    "    ans=sorted(ans,key=lambda x:x[1])\n",
    "    res=[]\n",
    "    i=0\n",
    "    while i<len(ans):\n",
    "        a=[]\n",
    "        tmp=ans[i][1]\n",
    "        j=i\n",
    "        while j<len(ans) and tmp==ans[j][1]:\n",
    "            a.append(ans[j])\n",
    "            j+=1\n",
    "        res.append(sorted(a,key=lambda x:x[2]))\n",
    "        i=j\n",
    "        \n",
    "    \n",
    "#     tmp=res[0][0]\n",
    "#     i=1\n",
    "#     while i<len(res) and tmp!=res[i][0]:\n",
    "#         tmp=res[i][0]\n",
    "#         i+=1\n",
    "        \n",
    "        \n",
    "    \n",
    "    \n",
    "\n",
    "print(vertical_traversal(ntree))\n",
    "        \n"
   ]
  },
  {
   "cell_type": "code",
   "execution_count": 17,
   "metadata": {},
   "outputs": [
    {
     "name": "stdout",
     "output_type": "stream",
     "text": [
      "(False, ['Hot', 'Tea', 'coffee'], ['cold', 'cola', 'black', 'red'])\n"
     ]
    }
   ],
   "source": [
    "def Is_symmetric(root):\n",
    "    if root is None:\n",
    "        return True\n",
    "    if root.left is None and root.right is None:\n",
    "        return True\n",
    "    def leftpart(root,res):\n",
    "        if root is None:\n",
    "            return\n",
    "        res.append(root.data)\n",
    "        leftpart(root.left,res)\n",
    "        leftpart(root.right,res)\n",
    "        return res\n",
    "    \n",
    "    def rightpart(root,res):\n",
    "        if root is None:\n",
    "            return\n",
    "        res.append(root.data)\n",
    "        rightpart(root.right,res)\n",
    "        rightpart(root.left,res)\n",
    "        return res\n",
    "    resl=leftpart(root.left,[])\n",
    "    resr=rightpart(root.right,[])\n",
    "    \n",
    "    return (resl==resr),resl,resr\n",
    "\n",
    "print(Is_symmetric(newBT))"
   ]
  },
  {
   "cell_type": "code",
   "execution_count": 34,
   "metadata": {},
   "outputs": [
    {
     "name": "stdout",
     "output_type": "stream",
     "text": [
      "True\n",
      "['Drinks', 'cold', 'cola', 'black']\n"
     ]
    }
   ],
   "source": [
    "def root_to_node(root,value,res):\n",
    "#     print(res)\n",
    "    if root is None:\n",
    "        return False\n",
    "    res.append(root.data)\n",
    "    if root.data==value:\n",
    "        return True\n",
    "    \n",
    "    if root_to_node(root.left,value,res) or root_to_node(root.right,value,res):\n",
    "        return True\n",
    "    res.pop()\n",
    "    return False\n",
    "a=[]    \n",
    "print(root_to_node(newBT,\"black\",a))\n",
    "print(a)\n"
   ]
  },
  {
   "cell_type": "code",
   "execution_count": 48,
   "metadata": {},
   "outputs": [
    {
     "name": "stdout",
     "output_type": "stream",
     "text": [
      "['Drinks', 'Hot', 'Tea'] ['Drinks', 'cold', 'cola', 'black']\n",
      "['Hot', 'Drinks'] ['cola', 'cold', 'Drinks']\n",
      "Drinks\n"
     ]
    }
   ],
   "source": [
    "def lowest_commom_ancestor(root,n1,n2):\n",
    "    path1,path2=[],[]\n",
    "    root_to_node(root,n1,path1)\n",
    "    root_to_node(root,n2,path2)\n",
    "    print(path1,path2)\n",
    "    path1=path1[-2::-1]\n",
    "    path2=path2[-2::-1]\n",
    "    print(path1,path2)\n",
    "    for i in path1:\n",
    "        for j in range(len(path2)):\n",
    "            if i==path2[j]:\n",
    "                return i\n",
    "    \n",
    "    \n",
    "    \n",
    "print(lowest_commom_ancestor(newBT,\"Tea\",\"black\"))"
   ]
  },
  {
   "cell_type": "code",
   "execution_count": 52,
   "metadata": {},
   "outputs": [
    {
     "name": "stdout",
     "output_type": "stream",
     "text": [
      "['cola']\n"
     ]
    }
   ],
   "source": [
    "## Node at a distance k from given Node\n",
    "## First we will do the parent hashing.\n",
    "## Search the given Node \n",
    "## We will do BFS and create a vistor dictionary\n",
    "\n",
    "def parent_hashing(root):\n",
    "    p={root:None,}\n",
    "    if root is None:\n",
    "        return\n",
    "    q=[root]\n",
    "    while q:\n",
    "        tmp=q.pop(0)\n",
    "        if tmp.left:\n",
    "            p[tmp.left]=tmp\n",
    "            q.append(tmp.left)\n",
    "        if tmp.right:\n",
    "            p[tmp.right]=tmp\n",
    "            q.append(tmp.right)\n",
    "    return p\n",
    "\n",
    "\n",
    "def findnode(root,node):\n",
    "    if root is None:\n",
    "        return\n",
    "    if root.data==node:\n",
    "        return root\n",
    "    l=findnode(root.left,node)\n",
    "    r=findnode(root.right,node)\n",
    "    if l==r==None:\n",
    "        return\n",
    "    if l!=None:\n",
    "        return l\n",
    "    if r!=None:\n",
    "        return r\n",
    "\n",
    "\n",
    "\n",
    "def Kthdistance(root,node,k):\n",
    "    node=findnode(root,node)\n",
    "    p=parent_hashing(root)\n",
    "    a=0\n",
    "    visit={node:1}\n",
    "    q=[node]\n",
    "    while a<k and q:\n",
    "        for i in range(len(q)):\n",
    "            tmp=q.pop(0)\n",
    "            if tmp.left and tmp.left not in visit:\n",
    "                visit[tmp.left]=1\n",
    "                q.append(tmp.left)\n",
    "            if tmp.right and tmp.right not in visit:\n",
    "                visit[tmp.right]=1\n",
    "                q.append(tmp.right)\n",
    "            if p[tmp] and p[tmp] not in visit:\n",
    "                visit[p[tmp]]=1\n",
    "                q.append(p[tmp])\n",
    "        a+=1\n",
    "        \n",
    "    Q=[]\n",
    "    for i in q:\n",
    "        Q.append(i.data)\n",
    "        \n",
    "    return Q\n",
    "                \n",
    "                \n",
    "print(Kthdistance(newBT,\"red\",1))       \n",
    "\n",
    "\n",
    "    "
   ]
  },
  {
   "cell_type": "code",
   "execution_count": 55,
   "metadata": {},
   "outputs": [
    {
     "name": "stdout",
     "output_type": "stream",
     "text": [
      "4\n"
     ]
    }
   ],
   "source": [
    "def count_node_completeBT(root):\n",
    "    if root is None:\n",
    "        return 0\n",
    "    l=leftheight(root.left)\n",
    "    r=rightheight(root.right)\n",
    "    if l==r:\n",
    "        return 2**l-1\n",
    "    else:\n",
    "        return 1+count_node_completeBT(root.left)+count_node_completeBT(root.right)\n",
    "    \n",
    "    \n",
    "    \n",
    "\n",
    "def leftheight(root):\n",
    "    if root is None:\n",
    "        return 0\n",
    "    count=0\n",
    "    while root:\n",
    "        count+=1\n",
    "        root=root.left\n",
    "        \n",
    "    return count\n",
    "\n",
    "def rightheight(root):\n",
    "    if root is None:\n",
    "        return 0\n",
    "    count=0\n",
    "    while root:\n",
    "        count+=1\n",
    "        root=root.right\n",
    "        \n",
    "    return count\n",
    "    \n",
    "print(count_node_completeBT(newBT))"
   ]
  },
  {
   "cell_type": "code",
   "execution_count": 54,
   "metadata": {},
   "outputs": [
    {
     "name": "stdout",
     "output_type": "stream",
     "text": [
      "2\n",
      "1\n",
      "6\n",
      "5\n",
      "4\n",
      "3\n",
      "7\n",
      "8\n",
      "9\n"
     ]
    }
   ],
   "source": [
    "\n",
    "def construct_unique_BT(inorder,preorder,d):\n",
    "    if len(preorder)==0:\n",
    "        return \n",
    "    d.append(TreeNode(preorder[0]))\n",
    "    j=0\n",
    "    for i in range(len(inorder)):\n",
    "        if inorder[i]==preorder[0]:\n",
    "            j=i\n",
    "            break\n",
    "    linorder=inorder[0:j]\n",
    "    rinorder=inorder[j+1:]\n",
    "    lpreorder=preorder[1:len(linorder)+1]\n",
    "    rpreorder=preorder[len(linorder)+1:]\n",
    "    l=construct_unique_BT(linorder,lpreorder,d)\n",
    "    r=construct_unique_BT(rinorder,rpreorder,d)\n",
    "    if not l and not r:\n",
    "        t=d.pop()\n",
    "        return t\n",
    "    t=d.pop()\n",
    "    if l:\n",
    "        t.left=l\n",
    "    if r:\n",
    "        t.right=r\n",
    "    if not l:\n",
    "        t.left=None\n",
    "    if not r:\n",
    "        t.right=None  \n",
    "    return t\n",
    "\n",
    "a=construct_unique_BT([2,1,6,5,4,3,7,8,9],[1,2,3,4,5,6,7,8,9],[])\n",
    "(inorder(a))\n",
    "            "
   ]
  },
  {
   "cell_type": "code",
   "execution_count": 57,
   "metadata": {},
   "outputs": [
    {
     "name": "stdout",
     "output_type": "stream",
     "text": [
      " ]]]]]]]]]]]]]]]]]]]]\n",
      " ]]]]]]]]]]]]]]]]]]]]\n",
      " ]]]]]]]]]]]]]]]]]]]]\n",
      " ]]]]]]]]]]]]]]]]]]]]\n",
      " ]]]]]]]]]]]]]]]]]]]]\n",
      " ]]]]]]]]]]]]]]]]]]]]\n",
      " ]]]]]]]]]]]]]]]]]]]]\n",
      " ]]]]]]]]]]]]]]]]]]]]\n",
      " ]]]]]]]]]]]]]]]]]]]]\n",
      "123456789\n"
     ]
    }
   ],
   "source": [
    "\n",
    "def serialize(root,res):\n",
    "    if root is None:\n",
    "        return\n",
    "    l=serialize(root.left,res)\n",
    "    r=serialize(root.right,res)\n",
    "    if l==r==None:\n",
    "        res+=str(root.data)\n",
    "    if l and r:\n",
    "        res+=str(root.data)+l+r\n",
    "    if l and not r:\n",
    "        res+=str(root.data)+l\n",
    "    if r and not l:\n",
    "        res+=str(root.data)+r\n",
    "    return res\n",
    "print(serialize(ntree,\"\"))"
   ]
  },
  {
   "cell_type": "code",
   "execution_count": 24,
   "metadata": {},
   "outputs": [
    {
     "name": "stdout",
     "output_type": "stream",
     "text": [
      "[2, 1, 6, 5, 4, 3, 7, 8, 9]\n"
     ]
    }
   ],
   "source": [
    "def morris_traversal_preorder(root):\n",
    "    if root is None:\n",
    "        return\n",
    "    cur=root\n",
    "    inorder=[]\n",
    "    while cur!=None:\n",
    "        if cur.left is None:\n",
    "            inorder.append(cur.data)\n",
    "            cur=cur.right\n",
    "        else:\n",
    "            nxt=cur.left\n",
    "            while nxt.right and nxt.right!=cur:\n",
    "                nxt=nxt.right\n",
    "            if nxt.right==None:\n",
    "                nxt.right=cur\n",
    "                cur=cur.left\n",
    "            else:\n",
    "                nxt.right=None\n",
    "                inorder.append(cur.data)\n",
    "                cur=cur.right\n",
    "    return inorder\n",
    "\n",
    "print(morris_traversal_preorder(ntree))\n",
    "    "
   ]
  },
  {
   "cell_type": "markdown",
   "metadata": {},
   "source": [
    "## BINARY SEARCH TREE"
   ]
  },
  {
   "cell_type": "code",
   "execution_count": 59,
   "metadata": {},
   "outputs": [
    {
     "ename": "NameError",
     "evalue": "name 'levelorder2' is not defined",
     "output_type": "error",
     "traceback": [
      "\u001b[1;31m---------------------------------------------------------------------------\u001b[0m",
      "\u001b[1;31mNameError\u001b[0m                                 Traceback (most recent call last)",
      "\u001b[1;32m<ipython-input-59-23c7fafbf543>\u001b[0m in \u001b[0;36m<module>\u001b[1;34m\u001b[0m\n\u001b[0;32m     17\u001b[0m \u001b[0mbst14\u001b[0m\u001b[1;33m.\u001b[0m\u001b[0mleft\u001b[0m\u001b[1;33m=\u001b[0m\u001b[0mbst13\u001b[0m\u001b[1;33m\u001b[0m\u001b[1;33m\u001b[0m\u001b[0m\n\u001b[0;32m     18\u001b[0m \u001b[1;33m\u001b[0m\u001b[0m\n\u001b[1;32m---> 19\u001b[1;33m \u001b[0mprint\u001b[0m\u001b[1;33m(\u001b[0m\u001b[0mlevelorder2\u001b[0m\u001b[1;33m(\u001b[0m\u001b[0mBST\u001b[0m\u001b[1;33m)\u001b[0m\u001b[1;33m)\u001b[0m\u001b[1;33m\u001b[0m\u001b[1;33m\u001b[0m\u001b[0m\n\u001b[0m",
      "\u001b[1;31mNameError\u001b[0m: name 'levelorder2' is not defined"
     ]
    }
   ],
   "source": [
    "BST=TreeNode(8)\n",
    "bst3=TreeNode(3)\n",
    "bst10=TreeNode(10)\n",
    "bst1=TreeNode(1)\n",
    "bst6=TreeNode(6)\n",
    "bst4=TreeNode(4)\n",
    "bst7=TreeNode(7)\n",
    "bst14=TreeNode(14)\n",
    "bst13=TreeNode(13)\n",
    "BST.left=bst3\n",
    "BST.right=bst10\n",
    "bst3.left=bst1\n",
    "bst3.right=bst6\n",
    "bst6.left=bst4\n",
    "bst6.right=bst7\n",
    "bst10.right=bst14\n",
    "bst14.left=bst13\n",
    "\n",
    "print(levelorder2(BST))"
   ]
  },
  {
   "cell_type": "code",
   "execution_count": 60,
   "metadata": {},
   "outputs": [
    {
     "name": "stdout",
     "output_type": "stream",
     "text": [
      "None\n"
     ]
    }
   ],
   "source": [
    "def search_bst(root,target):\n",
    "    if root==None:\n",
    "        return \n",
    "    if root.data==target:\n",
    "        return target\n",
    "    else:\n",
    "        if root.data<target:\n",
    "            return search_bst(root.right,target)\n",
    "        else:\n",
    "            return search_bst(root.left,target)\n",
    "            \n",
    "print(search_bst(BST,12))\n",
    "            \n",
    "            "
   ]
  },
  {
   "cell_type": "code",
   "execution_count": 69,
   "metadata": {},
   "outputs": [
    {
     "name": "stdout",
     "output_type": "stream",
     "text": [
      "-1 ....\n",
      "None\n",
      "6\n",
      "6\n"
     ]
    }
   ],
   "source": [
    "def cieling_bst(root,target):\n",
    "    r=-1\n",
    "    while root:\n",
    "        if root.data==target:\n",
    "            return target\n",
    "        if root.data<target:\n",
    "            root=root.right\n",
    "        else:\n",
    "            r=root.data\n",
    "            root=root.left\n",
    "            \n",
    "    return r\n",
    "\n",
    "p=-1\n",
    "print(p,\"....\")\n",
    "def cieling_bst2(root,target):\n",
    "    global p\n",
    "    if root==None:\n",
    "        return\n",
    "    if root.data==target:\n",
    "        p=target\n",
    "        return \n",
    "   \n",
    "    if root.data<target:\n",
    "        return cieling_bst2(root.right,target)\n",
    "    else:\n",
    "        p=(root.data)\n",
    "        return cieling_bst2(root.left,target)\n",
    "        \n",
    "        \n",
    "    \n",
    "    \n",
    "# print(cieling_bst(BST,12))\n",
    "print(cieling_bst2(BST,5))\n",
    "print(p)\n",
    "print(cieling_bst(BST,5))\n"
   ]
  },
  {
   "cell_type": "code",
   "execution_count": 64,
   "metadata": {},
   "outputs": [
    {
     "name": "stdout",
     "output_type": "stream",
     "text": [
      "4\n",
      "-1 ///////////////\n"
     ]
    }
   ],
   "source": [
    "def floor_bst(root,target):\n",
    "    res=-1\n",
    "    while root:\n",
    "        if root.data==target:\n",
    "            return target\n",
    "        if root.data>target:\n",
    "            root=root.left\n",
    "        else:\n",
    "            res=root.data\n",
    "            root=root.right\n",
    "    return res\n",
    "print(floor_bst(BST,5))\n",
    "\n",
    "\n",
    "\n",
    "def floor_bst2(root,target,p):\n",
    "    if root is None:\n",
    "        return\n",
    "    if root.data==target:\n",
    "        p=root.data\n",
    "        return\n",
    "    if root.data>target:\n",
    "        return floor_bst2(root.left,target,p)\n",
    "    else:\n",
    "        p=root.data\n",
    "        return floor_bst2(root.right,target,p)\n",
    "    \n",
    "\n",
    "p=-1\n",
    "floor_bst2(BST,5,p)\n",
    "print(p,\"///////////////\")\n",
    "        "
   ]
  },
  {
   "cell_type": "code",
   "execution_count": 100,
   "metadata": {},
   "outputs": [
    {
     "name": "stdout",
     "output_type": "stream",
     "text": [
      "[[8], [3, 10], [1, 6, 14], [4, 7, 13, 16], [5]]\n"
     ]
    }
   ],
   "source": [
    "def insert_node(root,target):\n",
    "    t=root\n",
    "    new_node=TreeNode(target)\n",
    "    prev=None\n",
    "    while root:\n",
    "        prev=root\n",
    "        if root.data<target:\n",
    "            root=root.right\n",
    "        elif root.data>target:\n",
    "            root=root.left\n",
    "    if prev.data>target:\n",
    "        prev.left=new_node\n",
    "    else:\n",
    "        prev.right=new_node\n",
    "    return levelorder2(t)\n",
    "\n",
    "print(insert_node(BST,5))\n",
    "        "
   ]
  },
  {
   "cell_type": "code",
   "execution_count": 108,
   "metadata": {},
   "outputs": [
    {
     "name": "stdout",
     "output_type": "stream",
     "text": [
      "target node does not there\n",
      "[[8], [1, 10], [5, 14], [7, 13]]\n"
     ]
    }
   ],
   "source": [
    "def delete_node(root,target):\n",
    "    p=root\n",
    "    prev=None\n",
    "    while root and root.data!=target:\n",
    "        prev=root\n",
    "        if root.data>target:\n",
    "            root=root.left\n",
    "        else:\n",
    "            root=root.right\n",
    "            \n",
    "    if root is None:\n",
    "        print(\"target node does not there\")\n",
    "    else:\n",
    "        if prev.left==root:\n",
    "            if root.left:\n",
    "                prev.left=root.left\n",
    "                t=root.left\n",
    "                prev_leftBT=None\n",
    "                while t:\n",
    "                    prev_leftBT=t\n",
    "                    t=t.right\n",
    "                prev_leftBT.right=root.right\n",
    "                root.left,root.right=None,None\n",
    "            else:\n",
    "                if not root.right:\n",
    "                    prev.left=None\n",
    "                else:\n",
    "                    prev.left=root.right\n",
    "                    root.right=None\n",
    "        else:\n",
    "            if root.left:\n",
    "                prev.right=root.left\n",
    "                t=root.left\n",
    "                prev_leftBT=None\n",
    "                while t:\n",
    "                    prev_leftBT=t\n",
    "                    t=t.right\n",
    "                prev_leftBT.right=root.right\n",
    "                root.left,root.right=None,None\n",
    "            else:\n",
    "                if not root.right:\n",
    "                    prev.right=None\n",
    "                else:\n",
    "                    prev.right=root.right\n",
    "                    root.right=None\n",
    "                    \n",
    "    return levelorder2(p)\n",
    "\n",
    "print(delete_node(BST,3))\n",
    "                \n",
    "            \n",
    "        \n",
    "\n",
    "            \n",
    "        \n",
    "    "
   ]
  },
  {
   "cell_type": "code",
   "execution_count": null,
   "metadata": {},
   "outputs": [],
   "source": []
  }
 ],
 "metadata": {
  "kernelspec": {
   "display_name": "Python 3",
   "language": "python",
   "name": "python3"
  },
  "language_info": {
   "codemirror_mode": {
    "name": "ipython",
    "version": 3
   },
   "file_extension": ".py",
   "mimetype": "text/x-python",
   "name": "python",
   "nbconvert_exporter": "python",
   "pygments_lexer": "ipython3",
   "version": "3.8.5"
  }
 },
 "nbformat": 4,
 "nbformat_minor": 4
}
