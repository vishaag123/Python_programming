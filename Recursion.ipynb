{
 "cells": [
  {
   "cell_type": "markdown",
   "metadata": {},
   "source": [
    "# Factorial"
   ]
  },
  {
   "cell_type": "code",
   "execution_count": 3,
   "metadata": {},
   "outputs": [
    {
     "name": "stdout",
     "output_type": "stream",
     "text": [
      "57133839564458545904789328652610540031895535786011264182548375833179829124845398393126574488675311145377107878746854204162666250198684504466355949195922066574942592095735778929325357290444962472405416790722118445437122269675520000000000000000000000000000000000000\n"
     ]
    }
   ],
   "source": [
    "# import sys\n",
    "# sys.setrecursionlimit(20000)\n",
    "M={}\n",
    "def factorial(n):\n",
    "    if n<=1:\n",
    "        return n\n",
    "    else:\n",
    "        if n not in M:\n",
    "            M[n]=n* factorial(n-1)\n",
    "        return M[n]\n",
    "print(factorial(150))"
   ]
  },
  {
   "cell_type": "markdown",
   "metadata": {},
   "source": [
    "# 1) Recursion can be think by making choice-decision Tree(that is input and output method). sole taget is to take a decision and make a choice\n",
    "# automatically input will become smaller. Input and output can be thibnk as a node and basis of choice, we will make either choice and add in\n",
    "# output and exclude the choice from input\n"
   ]
  },
  {
   "cell_type": "markdown",
   "metadata": {},
   "source": [
    "# 2) Induction--Base condition and Hypothesis\n",
    "# 3) Choice -decision method"
   ]
  },
  {
   "cell_type": "markdown",
   "metadata": {},
   "source": [
    "# Fibonacci"
   ]
  },
  {
   "cell_type": "code",
   "execution_count": 10,
   "metadata": {},
   "outputs": [
    {
     "name": "stdout",
     "output_type": "stream",
     "text": [
      "55\n"
     ]
    }
   ],
   "source": [
    "d={}\n",
    "def fibonacci(n):\n",
    "    if n==0:\n",
    "        return n\n",
    "    elif n==1:\n",
    "        return n\n",
    "    else:\n",
    "        if n not in d:\n",
    "            d[n]=fibonacci(n-1)+fibonacci(n-2)\n",
    "        return d[n]\n",
    "    \n",
    "print(fibonacci(10))\n",
    "        \n",
    "        "
   ]
  },
  {
   "cell_type": "code",
   "execution_count": 14,
   "metadata": {},
   "outputs": [
    {
     "name": "stdout",
     "output_type": "stream",
     "text": [
      "29\n"
     ]
    }
   ],
   "source": [
    "def sum_of_digit(n):\n",
    "    if n//10==0:\n",
    "        return n\n",
    "    return (n%10)+sum_of_digit(n//10)\n",
    "\n",
    "print(sum_of_digit(666902))"
   ]
  },
  {
   "cell_type": "code",
   "execution_count": 18,
   "metadata": {},
   "outputs": [
    {
     "name": "stdout",
     "output_type": "stream",
     "text": [
      "106868920913284608\n"
     ]
    }
   ],
   "source": [
    "def power(p,n):\n",
    "    if p==1:\n",
    "        return n\n",
    "    else:\n",
    "        return n*power(p-1,n)\n",
    "    \n",
    "print(power(9,78))"
   ]
  },
  {
   "cell_type": "code",
   "execution_count": 22,
   "metadata": {},
   "outputs": [
    {
     "name": "stdout",
     "output_type": "stream",
     "text": [
      "1\n"
     ]
    }
   ],
   "source": [
    "def gcd(a,b):\n",
    "    if a<b:\n",
    "        a,b=b,a\n",
    "    if a%b==0:\n",
    "        return b\n",
    "    return gcd(b,a%b)\n",
    "\n",
    "print(gcd(346,863))"
   ]
  },
  {
   "cell_type": "code",
   "execution_count": 23,
   "metadata": {},
   "outputs": [
    {
     "name": "stdout",
     "output_type": "stream",
     "text": [
      "1010\n"
     ]
    }
   ],
   "source": [
    "def decimal2binary(n):\n",
    "    if n==0:\n",
    "        return 0\n",
    "    else:\n",
    "        return n%2+10*decimal2binary(n//2)\n",
    "print(decimal2binary(10))"
   ]
  },
  {
   "cell_type": "code",
   "execution_count": 3,
   "metadata": {},
   "outputs": [
    {
     "name": "stdout",
     "output_type": "stream",
     "text": [
      "1\n",
      "2\n",
      "3\n",
      "4\n",
      "5\n",
      "6\n",
      "7\n"
     ]
    }
   ],
   "source": [
    "def print1_n(n):\n",
    "    if n==1:\n",
    "        print(n)\n",
    "        return\n",
    "    print1_n(n-1)\n",
    "    print(n)\n",
    "\n",
    "print1_n(7)\n",
    "    "
   ]
  },
  {
   "cell_type": "code",
   "execution_count": 7,
   "metadata": {},
   "outputs": [
    {
     "name": "stdout",
     "output_type": "stream",
     "text": [
      "[3, 6]\n",
      "[2, 3, 6]\n",
      "[1, 2, 3, 6]\n",
      "[1, 2, 3, 6, 8]\n",
      "[1, 2, 3, 5, 6, 8]\n",
      "[1, 2, 3, 5, 6, 8]\n"
     ]
    }
   ],
   "source": [
    "def sort_arr(arr):\n",
    "    if len(arr)==1:\n",
    "        return arr\n",
    "    p=sort_arr(arr[:-1])\n",
    "    q=arr[-1]\n",
    "    \n",
    "    ## Iteration we use to put last element in right sequence\n",
    "    temp=[]\n",
    "    ind=None\n",
    "    for i in range(len(p)):\n",
    "        if p[i]<=q:\n",
    "            temp.append(p[i])\n",
    "        else:\n",
    "            ind=i\n",
    "            break\n",
    "            \n",
    "    if ind==None:\n",
    "        temp.append(q)\n",
    "    else:\n",
    "        temp+=[q]+p[ind:]\n",
    "        \n",
    "    print(temp)\n",
    "    return temp\n",
    "\n",
    "\n",
    "print(sort_arr([3,6,2,1,8,5]))\n",
    "        \n",
    "        \n",
    "    \n",
    "    "
   ]
  },
  {
   "cell_type": "code",
   "execution_count": 35,
   "metadata": {},
   "outputs": [
    {
     "name": "stdout",
     "output_type": "stream",
     "text": [
      "[1, 2, 3, 5, 6, 8]\n"
     ]
    }
   ],
   "source": [
    "def insert(p,q):\n",
    "    if len(p)==0:\n",
    "        p.append(q)\n",
    "        return p\n",
    "    if p[-1]<=q:\n",
    "        p.append(q)\n",
    "        return p\n",
    "    else:\n",
    "        ind=p[-1]\n",
    "        t=insert(p[:-1],q)\n",
    "        return t+[ind] \n",
    "    \n",
    "def sort_arr2(arr):\n",
    "    if len(arr)==1:\n",
    "        return arr\n",
    "    a=sort_arr2(arr[:-1])\n",
    "    b=arr[-1]\n",
    "    return insert(a,b)\n",
    "         \n",
    "print(sort_arr2([3,6,2,1,8,5]))"
   ]
  },
  {
   "cell_type": "markdown",
   "metadata": {},
   "source": [
    "## Recursion method to think:\n",
    "## 1) choice and decision (Draw decision Tree & Inp&Oup)\n",
    "## 2) Reduce the size of input(Hypothesis >> Base condition >> Induction(Code))"
   ]
  },
  {
   "cell_type": "code",
   "execution_count": 36,
   "metadata": {},
   "outputs": [
    {
     "name": "stdout",
     "output_type": "stream",
     "text": [
      "[1, 2, 4, 5]\n"
     ]
    }
   ],
   "source": [
    "def del_middle_stack(arr,k):\n",
    "    if k==1:\n",
    "        arr.pop()\n",
    "        return arr\n",
    "    s=arr[-1]\n",
    "    t=del_middle_stack(arr[:-1],k-1)\n",
    "    return t+[s]\n",
    "\n",
    "print(del_middle_stack([1,2,3,4,5],3))\n",
    "    "
   ]
  },
  {
   "cell_type": "code",
   "execution_count": 37,
   "metadata": {},
   "outputs": [
    {
     "name": "stdout",
     "output_type": "stream",
     "text": [
      "[5, 4, 3, 2, 1]\n"
     ]
    }
   ],
   "source": [
    "def reverse_stack(arr):\n",
    "    if len(arr)==1:\n",
    "        return arr\n",
    "    p=arr[-1]\n",
    "    t=reverse_stack(arr[:-1])\n",
    "    return [p]+t\n",
    "\n",
    "print(reverse_stack([1,2,3,4,5]))\n",
    "    "
   ]
  },
  {
   "cell_type": "code",
   "execution_count": 64,
   "metadata": {},
   "outputs": [
    {
     "name": "stdout",
     "output_type": "stream",
     "text": [
      "move disk 1 from rod 1 to rod 3\n",
      "1 ||||||||||||||||||||||||||||||||\n",
      "1 }}}}}}}}}}}}}}\n",
      "move disk 2 from rod 1 to rod 2\n",
      "move disk 1 from rod 3 to rod 2\n",
      "2 ||||||||||||||||||||||||||||||||\n",
      "1 }}}}}}}}}}}}}}\n",
      "move disk 3 from rod 1 to rod 3\n",
      "move disk 1 from rod 2 to rod 1\n",
      "2 ||||||||||||||||||||||||||||||||\n",
      "2 }}}}}}}}}}}}}}\n",
      "move disk 2 from rod 2 to rod 3\n",
      "move disk 1 from rod 1 to rod 3\n",
      "3 ||||||||||||||||||||||||||||||||\n",
      "1\n"
     ]
    }
   ],
   "source": [
    "def toh(N, fromm, to, aux,count):\n",
    "        if N==1:\n",
    "            print(\"move disk \"+ str(N)+\" from rod \"+str(fromm)+ \" to rod \"+ str(to))\n",
    "            count+=1\n",
    "            print(count,\"||||||||||||||||||||||||||||||||\")\n",
    "            return count\n",
    "        else:\n",
    "            toh(N-1,fromm,aux,to,count)\n",
    "            count+=1\n",
    "            print(count,\"}}}}}}}}}}}}}}\")\n",
    "            print(\"move disk \"+ str(N)+\" from rod \"+str(fromm)+ \" to rod \"+ str(to))\n",
    "            \n",
    "            toh(N-1,aux,to,fromm,count)\n",
    "            return count\n",
    "        \n",
    "print(toh(3,1,3,2,count=0))"
   ]
  },
  {
   "cell_type": "code",
   "execution_count": 83,
   "metadata": {},
   "outputs": [
    {
     "name": "stdout",
     "output_type": "stream",
     "text": [
      "\n",
      "c\n",
      "b\n",
      "bc\n",
      "a\n",
      "ac\n",
      "ab\n",
      "abc\n"
     ]
    }
   ],
   "source": [
    "def print_all_subset(string):\n",
    "    op=\"\"\n",
    "    ip=string\n",
    "    def solve(op,ip):\n",
    "#         print(\"|||||||||||||||\")\n",
    "        if len(ip)==0:\n",
    "            print(op)\n",
    "            return\n",
    "        op1=op\n",
    "        op2=op\n",
    "        op2=op+ip[0]\n",
    "        solve(op1,ip[1:])\n",
    "        solve(op2,ip[1:])\n",
    "        return\n",
    "    solve(op,ip)\n",
    "    \n",
    "    \n",
    "(print_all_subset(\"abc\"))\n",
    "    \n",
    "    "
   ]
  },
  {
   "cell_type": "code",
   "execution_count": 87,
   "metadata": {},
   "outputs": [
    {
     "name": "stdout",
     "output_type": "stream",
     "text": [
      "abcd\n",
      "abc_d\n",
      "ab_cd\n",
      "ab_c_d\n",
      "a_bcd\n",
      "a_bc_d\n",
      "a_b_cd\n",
      "a_b_c_d\n"
     ]
    }
   ],
   "source": [
    "def permutation_with_spaces(string):\n",
    "    op=string[0]\n",
    "    ip=string[1:]\n",
    "    def solve(op,ip):\n",
    "        if len(ip)==0:\n",
    "            print(op)\n",
    "            return\n",
    "        op1=op+ip[0]\n",
    "        op2=op+\"_\"+ip[0]\n",
    "        solve(op1,ip[1:])\n",
    "        solve(op2,ip[1:])\n",
    "        return\n",
    "    solve(op,ip)\n",
    "    \n",
    "permutation_with_spaces(\"abcd\")"
   ]
  },
  {
   "cell_type": "code",
   "execution_count": 92,
   "metadata": {},
   "outputs": [
    {
     "name": "stdout",
     "output_type": "stream",
     "text": [
      "aB\n",
      "ab\n",
      "AB\n",
      "Ab\n"
     ]
    }
   ],
   "source": [
    "def permutation_with_caschange(string):\n",
    "    op=\"\"\n",
    "    ip=string\n",
    "    def solve(op,ip):\n",
    "        if len(ip)==0:\n",
    "            print(op)\n",
    "            return\n",
    "        op1=op+ip[0].swapcase()\n",
    "        op2=op+ip[0]\n",
    "        solve(op1,ip[1:])\n",
    "        solve(op2,ip[1:])\n",
    "        return\n",
    "    solve(op,ip)\n",
    "    \n",
    "permutation_with_caschange(\"Ab\")"
   ]
  },
  {
   "cell_type": "code",
   "execution_count": 100,
   "metadata": {},
   "outputs": [
    {
     "name": "stdout",
     "output_type": "stream",
     "text": [
      "['()()()', '(()())', '(())()', '((()))']\n"
     ]
    }
   ],
   "source": [
    "def balanced_paranthesis(n): # if ordering is not important\n",
    "    res=[]\n",
    "    op=\"()\"\n",
    "    ip=n-1\n",
    "    def solve(op,ip):\n",
    "        if ip==0:\n",
    "            res.append(op)\n",
    "            return\n",
    "        op1=op+\"()\"\n",
    "        op2=\"(\"+op+\")\"\n",
    "        solve(op1,ip-1)\n",
    "        solve(op2,ip-1)\n",
    "        return\n",
    "    solve(op,ip)\n",
    "    return res\n",
    "\n",
    "print(balanced_paranthesis(3))\n",
    "        \n"
   ]
  },
  {
   "cell_type": "code",
   "execution_count": 1,
   "metadata": {},
   "outputs": [
    {
     "name": "stdout",
     "output_type": "stream",
     "text": [
      "['((()))', '(()())', '(())()', '()(())', '()()()']\n"
     ]
    }
   ],
   "source": [
    "def balanced_paranthesis2(n):\n",
    "    res=[]\n",
    "    op=\"(\"\n",
    "    o,c=n-1,n\n",
    "    def solve(op,o,c):\n",
    "        if o==0 and c==0:\n",
    "            res.append(op)\n",
    "            return\n",
    "        if c>o and o>=0:\n",
    "            op1=op+\"(\"\n",
    "            op2=op+\")\"\n",
    "            solve(op1,o-1,c)\n",
    "            solve(op2,o,c-1)\n",
    "            return\n",
    "        elif o>=0:\n",
    "            solve(op+\"(\",o-1,c)\n",
    "            return\n",
    "    solve(op,o,c)\n",
    "    return res\n",
    "\n",
    "print(balanced_paranthesis2(3))"
   ]
  },
  {
   "cell_type": "code",
   "execution_count": 7,
   "metadata": {},
   "outputs": [
    {
     "name": "stdout",
     "output_type": "stream",
     "text": [
      "1111\n",
      "1110\n",
      "1101\n",
      "1100\n",
      "1011\n",
      "1010\n"
     ]
    }
   ],
   "source": [
    "def prefixbinary(n):\n",
    "    ones=1\n",
    "    zeros=0\n",
    "    op=\"1\"\n",
    "    n=n-1\n",
    "    def solve(op,ones,zeros,n):\n",
    "        if n==0:\n",
    "            print(op)\n",
    "            return\n",
    "        if ones>zeros:\n",
    "            solve(op+\"1\",ones+1,zeros,n-1)\n",
    "            solve(op+\"0\",ones,zeros+1,n-1)\n",
    "            return\n",
    "        elif ones==zeros:\n",
    "            solve(op+\"1\",ones+1,zeros,n-1)\n",
    "            return\n",
    "    solve(op,ones,zeros,n)\n",
    "    \n",
    "(prefixbinary(4))\n",
    "        \n",
    "    "
   ]
  },
  {
   "cell_type": "code",
   "execution_count": null,
   "metadata": {},
   "outputs": [],
   "source": []
  }
 ],
 "metadata": {
  "kernelspec": {
   "display_name": "Python 3",
   "language": "python",
   "name": "python3"
  },
  "language_info": {
   "codemirror_mode": {
    "name": "ipython",
    "version": 3
   },
   "file_extension": ".py",
   "mimetype": "text/x-python",
   "name": "python",
   "nbconvert_exporter": "python",
   "pygments_lexer": "ipython3",
   "version": "3.8.5"
  }
 },
 "nbformat": 4,
 "nbformat_minor": 4
}
