{
 "cells": [
  {
   "cell_type": "markdown",
   "metadata": {},
   "source": [
    "if there is O(n^2) loop and j is dependent on i, then there is high chance that we can \n",
    "decrease time complexity by using STACK"
   ]
  },
  {
   "cell_type": "code",
   "execution_count": 8,
   "metadata": {},
   "outputs": [
    {
     "name": "stdout",
     "output_type": "stream",
     "text": [
      "True\n"
     ]
    }
   ],
   "source": [
    "class stack():\n",
    "    def __init__(self):\n",
    "        self.items=[]\n",
    "        \n",
    "    def push(self,value):\n",
    "        self.items.append(value)\n",
    "        \n",
    "    def pop(self):\n",
    "        return self.items.pop()\n",
    "    \n",
    "    def get_stack(self):\n",
    "        return self.items\n",
    "    \n",
    "    def peak(self):\n",
    "        return self.items[-1]\n",
    "    \n",
    "    def isempty(self):\n",
    "        return self.items==[]\n",
    "    \n",
    "# s=stack()\n",
    "# # a=stack()\n",
    "# # a.push(3)\n",
    "# s.push(2)\n",
    "# s.push(3)\n",
    "# s.push(4)\n",
    "# print(s.get_stack())\n",
    "a=stack()\n",
    "print(a.isempty())\n",
    "\n",
    "# print(s.pop())\n",
    "# print(s.peak())\n",
    "\n",
    "# ast=stack()\n",
    "# print(ast.peak())\n",
    "# ast.push(6)\n",
    "# print(ast.get_stack())\n",
    "# print(a.get_stack())\n",
    "# s.push(6)\n",
    "# s.pop()\n",
    "# print(s.get_stack())\n",
    "# s.peak()\n",
    "# s.isempty()\n",
    "        "
   ]
  },
  {
   "cell_type": "code",
   "execution_count": 9,
   "metadata": {},
   "outputs": [
    {
     "name": "stdout",
     "output_type": "stream",
     "text": [
      "[3, 4, 4, -1]\n"
     ]
    }
   ],
   "source": [
    "def greater_next_2_right(arr):\n",
    "    res=[]\n",
    "    s=stack()\n",
    "    for i in arr[-1::-1]:\n",
    "        if s.isempty() is True:\n",
    "            res.append(-1)\n",
    "            s.push(i)\n",
    "          \n",
    "        else:\n",
    "            while s.isempty() is False and s.peak()<=i:\n",
    "                s.pop()\n",
    "            if s.isempty() is True:\n",
    "                res.append(-1)\n",
    "            else:\n",
    "                res.append(s.peak())\n",
    "            s.push(i)\n",
    "           \n",
    "            \n",
    "    return res[-1::-1]\n",
    "\n",
    "print(greater_next_2_right([1,3,2,4]))\n",
    "                "
   ]
  },
  {
   "cell_type": "code",
   "execution_count": 10,
   "metadata": {},
   "outputs": [
    {
     "name": "stdout",
     "output_type": "stream",
     "text": [
      "[-1, -1, 3, -1]\n"
     ]
    }
   ],
   "source": [
    "def greater_next_2_left(arr):\n",
    "    res=[]\n",
    "    s=stack()\n",
    "    for i in arr:\n",
    "        if s.isempty() is True:\n",
    "            res.append(-1)\n",
    "            s.push(i)\n",
    "        else:\n",
    "            while s.isempty() is False and s.peak()<=i:\n",
    "                s.pop()\n",
    "            if s.isempty() is True:\n",
    "                res.append(-1)\n",
    "            else:\n",
    "                res.append(s.peak())\n",
    "            s.push(i)\n",
    "            \n",
    "    return res\n",
    "\n",
    "print(greater_next_2_left([1,3,2,4]))\n",
    "            "
   ]
  },
  {
   "cell_type": "code",
   "execution_count": 11,
   "metadata": {},
   "outputs": [
    {
     "name": "stdout",
     "output_type": "stream",
     "text": [
      "[-1, 2, -1, -1]\n"
     ]
    }
   ],
   "source": [
    "def smaller_next_2_right(arr):\n",
    "    res=[]\n",
    "    s=stack()\n",
    "    for i in arr[-1::-1]:\n",
    "        if s.isempty() is True:\n",
    "            res.append(-1)\n",
    "            s.push(i)\n",
    "        else:\n",
    "            while s.isempty() is False and s.peak()>=i:\n",
    "                s.pop()\n",
    "            if s.isempty()==True:\n",
    "                res.append(-1)\n",
    "            else:\n",
    "                res.append(s.peak())\n",
    "            s.push(i)\n",
    "    return res[-1::-1]\n",
    "\n",
    "print(smaller_next_2_right([1,3,2,4]))"
   ]
  },
  {
   "cell_type": "code",
   "execution_count": 12,
   "metadata": {},
   "outputs": [
    {
     "name": "stdout",
     "output_type": "stream",
     "text": [
      "[-1, 1, 1, 2]\n"
     ]
    }
   ],
   "source": [
    "def smaller_next_2_left(arr):\n",
    "    res=[]\n",
    "    s=stack()\n",
    "    for i in arr:\n",
    "        if s.isempty() is True:\n",
    "            res.append(-1)\n",
    "            s.push(i)\n",
    "        else:\n",
    "            while s.isempty() is False and s.peak()>=i:\n",
    "                s.pop()\n",
    "            if s.isempty() is True:\n",
    "                res.append(-1)\n",
    "            else:\n",
    "                res.append(s.peak())\n",
    "            s.push(i)\n",
    "            \n",
    "    return res\n",
    "\n",
    "print(smaller_next_2_left([1,3,2,4]))"
   ]
  },
  {
   "cell_type": "code",
   "execution_count": 13,
   "metadata": {},
   "outputs": [
    {
     "name": "stdout",
     "output_type": "stream",
     "text": [
      "[1, 1, 1, 2, 1, 4, 7]\n"
     ]
    }
   ],
   "source": [
    "def stock_span_problem(arr):\n",
    "    res=[]\n",
    "    s=stack()\n",
    "    for i in range(len(arr)):\n",
    "        if s.isempty() is True:\n",
    "            res.append(-1)\n",
    "            s.push((arr[i],i))\n",
    "        else:\n",
    "            while s.isempty()==False and s.peak()[0]<=arr[i]:\n",
    "                s.pop()\n",
    "            if s.isempty()==True:\n",
    "                res.append(-1)\n",
    "            else:\n",
    "                res.append(s.peak()[1])\n",
    "            s.push((arr[i],i))\n",
    "            \n",
    "    ans=[]\n",
    "    for i in range(len(res)):\n",
    "        ans.append(i-res[i])\n",
    "        \n",
    "    return ans\n",
    "\n",
    "print(stock_span_problem([100,80,60,70,60,75,105]))\n",
    "            "
   ]
  },
  {
   "cell_type": "code",
   "execution_count": 49,
   "metadata": {},
   "outputs": [
    {
     "name": "stdout",
     "output_type": "stream",
     "text": [
      "12\n"
     ]
    }
   ],
   "source": [
    "def max_area_histogram(arr):\n",
    "    def smaller_next_2_left(arr):\n",
    "        res=[]\n",
    "        s=stack()\n",
    "        for i in range(len(arr)):\n",
    "            if s.isempty() is True:\n",
    "                res.append(-1)\n",
    "                s.push((arr[i],i))\n",
    "            else:\n",
    "                while s.isempty() is False and s.peak()[0]>=arr[i]:\n",
    "                    s.pop()\n",
    "                if s.isempty() is True:\n",
    "                    res.append(-1)\n",
    "                else:\n",
    "                    res.append(s.peak()[1])\n",
    "                s.push((arr[i],i))\n",
    "                    \n",
    "        ans=[]\n",
    "        for i in range(len(res)):\n",
    "            ans.append(i-res[i])\n",
    "        return ans\n",
    "            \n",
    "    def smaller_next_2_right(arr):\n",
    "        res=[]\n",
    "        s=stack()\n",
    "        for i in range(len(arr)-1,-1,-1):\n",
    "            if s.isempty() is True:\n",
    "                res.append(len(arr))\n",
    "                s.push((arr[i],i))\n",
    "            else:\n",
    "                while s.isempty() is False and s.peak()[0]>=arr[i]:\n",
    "                    s.pop()\n",
    "                if s.isempty() is True:\n",
    "                    res.append(len(arr))\n",
    "                else:\n",
    "                    res.append(s.peak()[1])\n",
    "                s.push((arr[i],i))\n",
    "        \n",
    "        r=res[-1::-1]        \n",
    "        ans=[]\n",
    "        for i in range(len(res)):\n",
    "            ans.append(r[i]-i)\n",
    "            \n",
    "        return ans\n",
    "    \n",
    "    \n",
    "    ans_left=smaller_next_2_left(arr)\n",
    "    ans_right=smaller_next_2_right(arr)\n",
    "    result=[]\n",
    "    for i in range(len(arr)):\n",
    "        result.append(arr[i]*(ans_left[i]+ans_right[i]-1))\n",
    "\n",
    "    return max(result)\n",
    "\n",
    "\n",
    "print(max_area_histogram([6,2,5,4,5,1,6]))\n",
    "        "
   ]
  },
  {
   "cell_type": "code",
   "execution_count": 50,
   "metadata": {},
   "outputs": [
    {
     "name": "stdout",
     "output_type": "stream",
     "text": [
      "[1, 2, 2, 1]\n",
      "[2, 3, 3, 2]\n",
      "[3, 4, 0, 0]\n",
      "8\n"
     ]
    }
   ],
   "source": [
    "def max_binary_rectangle(arr):\n",
    "    H=[arr[0]]\n",
    "    for i in arr[1:]:\n",
    "        r=H[-1].copy()\n",
    "        for j in range(len(arr)):\n",
    "            if i[j]==1:\n",
    "                r[j]+=1\n",
    "            else:\n",
    "                r[j]=0\n",
    "        print(r)\n",
    "        H.append(r)\n",
    "        \n",
    "    res=[]\n",
    "    for i in H:\n",
    "        res.append(max_area_histogram(i))\n",
    "    return max(res)\n",
    "\n",
    "print(max_binary_rectangle([[0,1,1,0],[1,1,1,1],[1,1,1,1],[1,1,0,0]]))"
   ]
  },
  {
   "cell_type": "code",
   "execution_count": 38,
   "metadata": {},
   "outputs": [
    {
     "name": "stdout",
     "output_type": "stream",
     "text": [
      "[3, 3, 3, 3, 3, 4] [4, 4, 4, 4, 4, 4]\n",
      "(10, [0, 3, 3, 1, 3, 0])\n"
     ]
    }
   ],
   "source": [
    "def rain_water_trapping(arr):\n",
    "    maxL=[arr[0]]\n",
    "    for i in range(1,len(arr)):\n",
    "        if maxL[-1]>=arr[i]:\n",
    "            maxL.append(maxL[-1])\n",
    "        else:\n",
    "            maxL.append(arr[i])\n",
    "            \n",
    "    maxR=[arr[-1]]\n",
    "    for i in reversed(range(0,len(arr)-1)):\n",
    "        if maxR[-1]>=arr[i]:\n",
    "            maxR.append(maxL[-1])\n",
    "        else:\n",
    "            maxR.append(arr[i])\n",
    "            \n",
    "    maxR=maxR[-1::-1]\n",
    "        \n",
    "        \n",
    "            \n",
    "    print(maxL,maxR)\n",
    "    water=[]\n",
    "    for i in range(len(arr)):\n",
    "        a=min(maxL[i],maxR[i])-arr[i]\n",
    "        if a>=0:\n",
    "            water.append(a)\n",
    "        else:\n",
    "            water.append(0)\n",
    "        \n",
    "    return sum(water),water\n",
    "\n",
    "print(rain_water_trapping([3,0,0,2,0,4]))\n",
    "        "
   ]
  },
  {
   "cell_type": "code",
   "execution_count": 42,
   "metadata": {},
   "outputs": [
    {
     "name": "stdout",
     "output_type": "stream",
     "text": [
      "3\n",
      "3\n",
      "3\n",
      "3\n",
      "2\n",
      "3\n"
     ]
    }
   ],
   "source": [
    "class minstack():\n",
    "    def __init__(self):\n",
    "        self.items=[]\n",
    "        self.items2=[]\n",
    "        \n",
    "    def push(self,value):\n",
    "        if len(self.items)==0:\n",
    "            self.items.append(value)\n",
    "            self.items2.append(value)\n",
    "        else:\n",
    "            self.items.append(value)\n",
    "            if value<self.items2[-1]:\n",
    "                self.items2.append(value)\n",
    "        \n",
    "    def pop(self):\n",
    "        if self.items[-1]==self.items2[-1]:\n",
    "            self.items2.pop()\n",
    "        return self.items.pop()\n",
    "    \n",
    "    def min_element(self):\n",
    "        return self.items2[-1]\n",
    "    \n",
    "    \n",
    "a=minstack()\n",
    "a.push(3)\n",
    "print(a.min_element())\n",
    "a.push(5)\n",
    "print(a.min_element())\n",
    "a.push(8)\n",
    "print(a.min_element())\n",
    "a.pop()\n",
    "print(a.min_element())\n",
    "a.push(2)\n",
    "print(a.min_element())\n",
    "a.pop()\n",
    "print(a.min_element())\n",
    "        \n",
    "        \n"
   ]
  },
  {
   "cell_type": "code",
   "execution_count": 48,
   "metadata": {},
   "outputs": [
    {
     "name": "stdout",
     "output_type": "stream",
     "text": [
      "3\n",
      "3\n",
      "3\n",
      "3\n",
      "2\n",
      "3\n"
     ]
    }
   ],
   "source": [
    "class minstack2():\n",
    "    def __init__(self):\n",
    "        self.items=[]\n",
    "        self.items2=-1\n",
    "        \n",
    "    def push(self,value):\n",
    "        if len(self.items)==0:\n",
    "            self.items.append(value)\n",
    "            self.items2=value\n",
    "        if value>=self.items2:\n",
    "            self.items.append(value)\n",
    "        else:\n",
    "            self.items.append(value*2-self.items2)\n",
    "            self.items2=value\n",
    "            \n",
    "        \n",
    "    def pop(self):\n",
    "        if self.items[-1]>=self.items2:\n",
    "            return self.items.pop()\n",
    "        else:\n",
    "            a=self.items2\n",
    "            self.items2=2*self.items2-self.items[-1]\n",
    "            self.items.pop()\n",
    "            return a\n",
    "            \n",
    "    \n",
    "    def min_element(self):\n",
    "        return self.items2\n",
    "    \n",
    "a=minstack2()\n",
    "a.push(3)\n",
    "print(a.min_element())\n",
    "a.push(5)\n",
    "print(a.min_element())\n",
    "a.push(8)\n",
    "print(a.min_element())\n",
    "a.pop()\n",
    "print(a.min_element())\n",
    "a.push(2)\n",
    "print(a.min_element())\n",
    "a.pop()\n",
    "print(a.min_element())"
   ]
  },
  {
   "cell_type": "code",
   "execution_count": null,
   "metadata": {},
   "outputs": [],
   "source": []
  }
 ],
 "metadata": {
  "kernelspec": {
   "display_name": "Python 3",
   "language": "python",
   "name": "python3"
  },
  "language_info": {
   "codemirror_mode": {
    "name": "ipython",
    "version": 3
   },
   "file_extension": ".py",
   "mimetype": "text/x-python",
   "name": "python",
   "nbconvert_exporter": "python",
   "pygments_lexer": "ipython3",
   "version": "3.8.5"
  }
 },
 "nbformat": 4,
 "nbformat_minor": 4
}
