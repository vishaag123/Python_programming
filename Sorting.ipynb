{
 "cells": [
  {
   "cell_type": "markdown",
   "metadata": {},
   "source": [
    "## Insertion Sort"
   ]
  },
  {
   "cell_type": "code",
   "execution_count": 1,
   "metadata": {},
   "outputs": [
    {
     "name": "stdout",
     "output_type": "stream",
     "text": [
      "[1, 2, 3, 5, 6, 8, 9, 9, 10]\n"
     ]
    }
   ],
   "source": [
    "def insertion_sort(A):\n",
    "    for i in range(1,len(A)):\n",
    "        key=A[i]\n",
    "        j=i-1\n",
    "        while j>=0 and A[j]>key:\n",
    "            A[j+1]=A[j]\n",
    "            j-=1\n",
    "        A[j+1]=key\n",
    "    return A\n",
    "\n",
    "print(insertion_sort([9,8,1,2,6,9,10,3,5]))\n",
    "            \n",
    "# Logic-- Understand 1st element as sorted and check for next item and compare it with sorted element\n",
    "# until it find correct position inside the sorted element\n"
   ]
  },
  {
   "cell_type": "markdown",
   "metadata": {},
   "source": [
    "# Bubble Sort"
   ]
  },
  {
   "cell_type": "code",
   "execution_count": 16,
   "metadata": {},
   "outputs": [
    {
     "name": "stdout",
     "output_type": "stream",
     "text": [
      "[1, 2, 3, 5, 6, 8, 9, 9, 10]\n"
     ]
    }
   ],
   "source": [
    "def bubble_Sort(A):\n",
    "    for i in range(len(A)):\n",
    "        for j in range(len(A)-i-1):\n",
    "            if A[j]>A[j+1]:\n",
    "                A[j],A[j+1]=A[j+1],A[j]\n",
    "    return A\n",
    "\n",
    "print(bubble_Sort([9,8,1,2,6,9,10,3,5]))\n",
    "\n",
    "# in one cycle, when we compare each two element, we will know the highest for sure that why 2nd loop is educing in number in case of range"
   ]
  },
  {
   "cell_type": "markdown",
   "metadata": {},
   "source": [
    "# Merge Sort"
   ]
  },
  {
   "cell_type": "code",
   "execution_count": 20,
   "metadata": {},
   "outputs": [
    {
     "name": "stdout",
     "output_type": "stream",
     "text": [
      "[1, 2, 3, 5, 6, 8, 9, 9, 10]\n"
     ]
    }
   ],
   "source": [
    "def merge(A,B):\n",
    "    out=[]\n",
    "    p1,p2=0,0\n",
    "    while len(A)>p1 and len(B)>p2:\n",
    "        if A[p1]<B[p2]:\n",
    "            out.append(A[p1])\n",
    "            p1+=1\n",
    "        else:\n",
    "            out.append(B[p2])\n",
    "            p2+=1\n",
    "    out+= A[p1:]+B[p2:]\n",
    "    return out\n",
    "\n",
    "def merge_sort(arr):\n",
    "    if len(arr)<=1:\n",
    "        return arr\n",
    "    mid=len(arr)//2\n",
    "    \n",
    "    return merge(merge_sort(arr[:mid]),merge_sort(arr[mid:]))\n",
    "                 \n",
    "print(merge_sort([9,8,1,2,6,9,10,3,5]))"
   ]
  },
  {
   "cell_type": "markdown",
   "metadata": {},
   "source": [
    "# Quick Sort"
   ]
  },
  {
   "cell_type": "code",
   "execution_count": 28,
   "metadata": {},
   "outputs": [
    {
     "name": "stdout",
     "output_type": "stream",
     "text": [
      "[3, 8, 9, 10, 12, 16, 6] ......\n",
      "(1, [3, 6, 9, 10, 12, 16, 8])\n"
     ]
    }
   ],
   "source": [
    "def partition(A,low,high):\n",
    "    pivot=A[high]\n",
    "    i=low-1\n",
    "    for j in range(low,high):\n",
    "        if A[j]<=pivot:\n",
    "            i+=1\n",
    "            (A[i],A[j])=(A[j],A[i])\n",
    "    (A[i+1],A[high])=(A[high],A[i+1])\n",
    "    \n",
    "    return i+1\n",
    "\n",
    "def quick_sort(A,low,high):\n",
    "    if low<high:\n",
    "        p=partition(A,low,high)\n",
    "    quick_sort(A,low,p-1)\n",
    "    quick_sort(A,p+1,high)\n",
    "    \n",
    " \n",
    "        "
   ]
  },
  {
   "cell_type": "code",
   "execution_count": null,
   "metadata": {},
   "outputs": [],
   "source": []
  }
 ],
 "metadata": {
  "kernelspec": {
   "display_name": "Python 3",
   "language": "python",
   "name": "python3"
  },
  "language_info": {
   "codemirror_mode": {
    "name": "ipython",
    "version": 3
   },
   "file_extension": ".py",
   "mimetype": "text/x-python",
   "name": "python",
   "nbconvert_exporter": "python",
   "pygments_lexer": "ipython3",
   "version": "3.8.5"
  }
 },
 "nbformat": 4,
 "nbformat_minor": 4
}
