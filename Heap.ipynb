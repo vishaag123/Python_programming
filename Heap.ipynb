{
 "cells": [
  {
   "cell_type": "code",
   "execution_count": null,
   "metadata": {},
   "outputs": [],
   "source": [
    "def K_smallest(arr,k):\n",
    "    a=[]\n",
    "    for i in arr:\n",
    "        if len(a)==0:\n",
    "            a.append(i)\n",
    "        if len(a)<k:\n",
    "            if a[-1]<i:\n",
    "                a.append(i)\n",
    "            else:\n",
    "                a.insert(0,i)\n",
    "        else:\n",
    "            \n",
    "        \n",
    "            \n",
    "    "
   ]
  }
 ],
 "metadata": {
  "kernelspec": {
   "display_name": "Python 3",
   "language": "python",
   "name": "python3"
  },
  "language_info": {
   "codemirror_mode": {
    "name": "ipython",
    "version": 3
   },
   "file_extension": ".py",
   "mimetype": "text/x-python",
   "name": "python",
   "nbconvert_exporter": "python",
   "pygments_lexer": "ipython3",
   "version": "3.8.5"
  }
 },
 "nbformat": 4,
 "nbformat_minor": 4
}
